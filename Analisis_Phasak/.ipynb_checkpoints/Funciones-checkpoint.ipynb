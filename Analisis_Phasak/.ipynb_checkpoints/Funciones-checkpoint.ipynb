{
 "cells": [
  {
   "cell_type": "markdown",
   "id": "40c814dd-03f0-42ec-8008-5398c2aee844",
   "metadata": {},
   "source": [
    "### Al importar un archivo CSV del ingest seprarado por ; y con sepracion decimal , "
   ]
  },
  {
   "cell_type": "code",
   "execution_count": null,
   "id": "d8ec1dc7-3a4b-4077-8a86-c5169c8f5fdc",
   "metadata": {},
   "outputs": [],
   "source": [
    "# Primero accedemos al fichro con read_csv\n",
    "\n",
    "def impcsv():\n",
    "    df['Precio'] = df['Precio'].str.replace(',','.')\n",
    "    df['Importe'] = df['Importe'].str.replace(',','.')\n",
    "    df['Precio medio'] = df['Precio medio'].str.replace(',','.')\n",
    "    df['Precio'] = df['Precio'].astype('float64')\n",
    "    df['Importe'] = df['Importe'].astype('float64')\n",
    "    df['Precio medio'] = df['Precio medio'].astype('float64')\n",
    "    df['Codigo Cliente'] = df['Codigo Cliente'].astype('object')\n",
    "    df['Serie Factura'] = df['Serie Factura'].astype('object')\n",
    "    df['Codigo Comercial'] = df['Codigo Comercial'].astype('object')\n",
    "    df['Empresa Emisora'] = df['Empresa Emisora'].astype('object')\n",
    "    return\n",
    "    "
   ]
  }
 ],
 "metadata": {
  "kernelspec": {
   "display_name": "Python 3 (ipykernel)",
   "language": "python",
   "name": "python3"
  },
  "language_info": {
   "codemirror_mode": {
    "name": "ipython",
    "version": 3
   },
   "file_extension": ".py",
   "mimetype": "text/x-python",
   "name": "python",
   "nbconvert_exporter": "python",
   "pygments_lexer": "ipython3",
   "version": "3.9.12"
  }
 },
 "nbformat": 4,
 "nbformat_minor": 5
}
