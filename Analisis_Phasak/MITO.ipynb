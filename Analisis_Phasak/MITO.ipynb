{
 "cells": [
  {
   "cell_type": "code",
   "execution_count": 3,
   "id": "572df56d-36cf-44ad-9043-313272640344",
   "metadata": {
    "collapsed": true,
    "jupyter": {
     "outputs_hidden": true
    },
    "tags": []
   },
   "outputs": [
    {
     "name": "stdout",
     "output_type": "stream",
     "text": [
      "Starting Mito install. This make take a few moments.\n",
      "\n",
      "In the meantime, check out a 2 minute intro to Mito: https://www.youtube.com/watch?v=LFfWfqzdKyE\n",
      "\n",
      "Upgrade mitoinstaller\n",
      "Setting up environment\n",
      "Check dependencies\n",
      "Remove mitosheet3 if present\n",
      "Install mitosheet\n",
      "This may take a few moments...\n",
      "Traceback (most recent call last):\n",
      "  File \"C:\\Users\\carlo\\anaconda3\\lib\\site-packages\\mitoinstaller\\installer_steps\\mitosheet_installer_steps.py\", line 56, in install_step_mitosheet_install_mitosheet\n",
      "    install_pip_packages('mitosheet', test_pypi='--test-pypi' in sys.argv, user_install='--user' in sys.argv)\n",
      "  File \"C:\\Users\\carlo\\anaconda3\\lib\\site-packages\\mitoinstaller\\commands.py\", line 121, in install_pip_packages\n",
      "    run_command(sys_call)\n",
      "  File \"C:\\Users\\carlo\\anaconda3\\lib\\site-packages\\mitoinstaller\\commands.py\", line 50, in run_command\n",
      "    raise Exception(get_output(completed_process))\n",
      "Exception: Collecting mitosheet\n",
      "  Downloading mitosheet-0.1.460-py2.py3-none-any.whl (2.8 MB)\n",
      "Requirement already satisfied: chardet>=3.0.4 in c:\\users\\carlo\\anaconda3\\lib\\site-packages (from mitosheet) (4.0.0)\n",
      "Requirement already satisfied: plotly>=4.14.3 in c:\\users\\carlo\\anaconda3\\lib\\site-packages (from mitosheet) (5.6.0)\n",
      "Requirement already satisfied: analytics-python in c:\\users\\carlo\\anaconda3\\lib\\site-packages (from mitosheet) (1.4.0)\n",
      "Requirement already satisfied: jupyterlab~=3.0 in c:\\users\\carlo\\anaconda3\\lib\\site-packages (from mitosheet) (3.3.2)\n",
      "Requirement already satisfied: pandas>=0.24.2 in c:\\users\\carlo\\anaconda3\\lib\\site-packages (from mitosheet) (1.4.2)\n",
      "Requirement already satisfied: openpyxl in c:\\users\\carlo\\anaconda3\\lib\\site-packages (from mitosheet) (3.0.9)\n",
      "Collecting xlsxwriter<=3.0.2,>=0.6.9\n",
      "  Downloading XlsxWriter-3.0.2-py3-none-any.whl (149 kB)\n",
      "Requirement already satisfied: ipython in c:\\users\\carlo\\anaconda3\\lib\\site-packages (from jupyterlab~=3.0->mitosheet) (8.2.0)\n",
      "Requirement already satisfied: jinja2>=2.1 in c:\\users\\carlo\\anaconda3\\lib\\site-packages (from jupyterlab~=3.0->mitosheet) (2.11.3)\n",
      "Requirement already satisfied: nbclassic~=0.2 in c:\\users\\carlo\\anaconda3\\lib\\site-packages (from jupyterlab~=3.0->mitosheet) (0.3.5)\n",
      "Requirement already satisfied: jupyter-server~=1.4 in c:\\users\\carlo\\anaconda3\\lib\\site-packages (from jupyterlab~=3.0->mitosheet) (1.13.5)\n",
      "Requirement already satisfied: packaging in c:\\users\\carlo\\anaconda3\\lib\\site-packages (from jupyterlab~=3.0->mitosheet) (21.3)\n",
      "Requirement already satisfied: tornado>=6.1.0 in c:\\users\\carlo\\anaconda3\\lib\\site-packages (from jupyterlab~=3.0->mitosheet) (6.1)\n",
      "Requirement already satisfied: jupyterlab-server~=2.10 in c:\\users\\carlo\\anaconda3\\lib\\site-packages (from jupyterlab~=3.0->mitosheet) (2.10.3)\n",
      "Requirement already satisfied: jupyter-core in c:\\users\\carlo\\anaconda3\\lib\\site-packages (from jupyterlab~=3.0->mitosheet) (4.9.2)\n",
      "Requirement already satisfied: MarkupSafe>=0.23 in c:\\users\\carlo\\anaconda3\\lib\\site-packages (from jinja2>=2.1->jupyterlab~=3.0->mitosheet) (2.0.1)\n",
      "Requirement already satisfied: prometheus-client in c:\\users\\carlo\\anaconda3\\lib\\site-packages (from jupyter-server~=1.4->jupyterlab~=3.0->mitosheet) (0.13.1)\n",
      "Requirement already satisfied: Send2Trash in c:\\users\\carlo\\anaconda3\\lib\\site-packages (from jupyter-server~=1.4->jupyterlab~=3.0->mitosheet) (1.8.0)\n",
      "Requirement already satisfied: anyio<4,>=3.1.0 in c:\\users\\carlo\\anaconda3\\lib\\site-packages (from jupyter-server~=1.4->jupyterlab~=3.0->mitosheet) (3.5.0)\n",
      "Requirement already satisfied: traitlets>=5 in c:\\users\\carlo\\anaconda3\\lib\\site-packages (from jupyter-server~=1.4->jupyterlab~=3.0->mitosheet) (5.1.1)\n",
      "Requirement already satisfied: websocket-client in c:\\users\\carlo\\anaconda3\\lib\\site-packages (from jupyter-server~=1.4->jupyterlab~=3.0->mitosheet) (0.58.0)\n",
      "Requirement already satisfied: pyzmq>=17 in c:\\users\\carlo\\anaconda3\\lib\\site-packages (from jupyter-server~=1.4->jupyterlab~=3.0->mitosheet) (22.3.0)\n",
      "Requirement already satisfied: nbconvert in c:\\users\\carlo\\anaconda3\\lib\\site-packages (from jupyter-server~=1.4->jupyterlab~=3.0->mitosheet) (6.4.4)\n",
      "Collecting pywinpty<2\n",
      "  Downloading pywinpty-1.1.6-cp39-none-win_amd64.whl (1.4 MB)\n",
      "Requirement already satisfied: jupyter-client>=6.1.1 in c:\\users\\carlo\\anaconda3\\lib\\site-packages (from jupyter-server~=1.4->jupyterlab~=3.0->mitosheet) (6.1.12)\n",
      "Requirement already satisfied: nbformat in c:\\users\\carlo\\anaconda3\\lib\\site-packages (from jupyter-server~=1.4->jupyterlab~=3.0->mitosheet) (5.3.0)\n",
      "Requirement already satisfied: ipython-genutils in c:\\users\\carlo\\anaconda3\\lib\\site-packages (from jupyter-server~=1.4->jupyterlab~=3.0->mitosheet) (0.2.0)\n",
      "Requirement already satisfied: argon2-cffi in c:\\users\\carlo\\anaconda3\\lib\\site-packages (from jupyter-server~=1.4->jupyterlab~=3.0->mitosheet) (21.3.0)\n",
      "Requirement already satisfied: terminado>=0.8.3 in c:\\users\\carlo\\anaconda3\\lib\\site-packages (from jupyter-server~=1.4->jupyterlab~=3.0->mitosheet) (0.13.1)\n",
      "Requirement already satisfied: sniffio>=1.1 in c:\\users\\carlo\\anaconda3\\lib\\site-packages (from anyio<4,>=3.1.0->jupyter-server~=1.4->jupyterlab~=3.0->mitosheet) (1.2.0)\n",
      "Requirement already satisfied: idna>=2.8 in c:\\users\\carlo\\anaconda3\\lib\\site-packages (from anyio<4,>=3.1.0->jupyter-server~=1.4->jupyterlab~=3.0->mitosheet) (3.3)\n",
      "Requirement already satisfied: python-dateutil>=2.1 in c:\\users\\carlo\\anaconda3\\lib\\site-packages (from jupyter-client>=6.1.1->jupyter-server~=1.4->jupyterlab~=3.0->mitosheet) (2.8.2)\n",
      "Requirement already satisfied: pywin32>=1.0 in c:\\users\\carlo\\anaconda3\\lib\\site-packages (from jupyter-core->jupyterlab~=3.0->mitosheet) (302)\n",
      "Requirement already satisfied: json5 in c:\\users\\carlo\\anaconda3\\lib\\site-packages (from jupyterlab-server~=2.10->jupyterlab~=3.0->mitosheet) (0.9.6)\n",
      "Requirement already satisfied: requests in c:\\users\\carlo\\anaconda3\\lib\\site-packages (from jupyterlab-server~=2.10->jupyterlab~=3.0->mitosheet) (2.27.1)\n",
      "Requirement already satisfied: jsonschema>=3.0.1 in c:\\users\\carlo\\anaconda3\\lib\\site-packages (from jupyterlab-server~=2.10->jupyterlab~=3.0->mitosheet) (4.4.0)\n",
      "Requirement already satisfied: entrypoints>=0.2.2 in c:\\users\\carlo\\anaconda3\\lib\\site-packages (from jupyterlab-server~=2.10->jupyterlab~=3.0->mitosheet) (0.4)\n",
      "Requirement already satisfied: babel in c:\\users\\carlo\\anaconda3\\lib\\site-packages (from jupyterlab-server~=2.10->jupyterlab~=3.0->mitosheet) (2.9.1)\n",
      "Requirement already satisfied: pyrsistent!=0.17.0,!=0.17.1,!=0.17.2,>=0.14.0 in c:\\users\\carlo\\anaconda3\\lib\\site-packages (from jsonschema>=3.0.1->jupyterlab-server~=2.10->jupyterlab~=3.0->mitosheet) (0.18.0)\n",
      "Requirement already satisfied: attrs>=17.4.0 in c:\\users\\carlo\\anaconda3\\lib\\site-packages (from jsonschema>=3.0.1->jupyterlab-server~=2.10->jupyterlab~=3.0->mitosheet) (21.4.0)\n",
      "Requirement already satisfied: notebook<7 in c:\\users\\carlo\\anaconda3\\lib\\site-packages (from nbclassic~=0.2->jupyterlab~=3.0->mitosheet) (6.4.8)\n",
      "Requirement already satisfied: nest-asyncio>=1.5 in c:\\users\\carlo\\anaconda3\\lib\\site-packages (from notebook<7->nbclassic~=0.2->jupyterlab~=3.0->mitosheet) (1.5.5)\n",
      "Requirement already satisfied: ipykernel in c:\\users\\carlo\\anaconda3\\lib\\site-packages (from notebook<7->nbclassic~=0.2->jupyterlab~=3.0->mitosheet) (6.9.1)\n",
      "Requirement already satisfied: numpy>=1.18.5 in c:\\users\\carlo\\anaconda3\\lib\\site-packages (from pandas>=0.24.2->mitosheet) (1.21.5)\n",
      "Requirement already satisfied: pytz>=2020.1 in c:\\users\\carlo\\anaconda3\\lib\\site-packages (from pandas>=0.24.2->mitosheet) (2021.3)\n",
      "Requirement already satisfied: six in c:\\users\\carlo\\anaconda3\\lib\\site-packages (from plotly>=4.14.3->mitosheet) (1.16.0)\n",
      "Requirement already satisfied: tenacity>=6.2.0 in c:\\users\\carlo\\anaconda3\\lib\\site-packages (from plotly>=4.14.3->mitosheet) (8.0.1)\n",
      "Requirement already satisfied: monotonic>=1.5 in c:\\users\\carlo\\anaconda3\\lib\\site-packages (from analytics-python->mitosheet) (1.6)\n",
      "Requirement already satisfied: backoff==1.10.0 in c:\\users\\carlo\\anaconda3\\lib\\site-packages (from analytics-python->mitosheet) (1.10.0)\n",
      "Requirement already satisfied: certifi>=2017.4.17 in c:\\users\\carlo\\anaconda3\\lib\\site-packages (from requests->jupyterlab-server~=2.10->jupyterlab~=3.0->mitosheet) (2021.10.8)\n",
      "Requirement already satisfied: urllib3<1.27,>=1.21.1 in c:\\users\\carlo\\anaconda3\\lib\\site-packages (from requests->jupyterlab-server~=2.10->jupyterlab~=3.0->mitosheet) (1.26.9)\n",
      "Requirement already satisfied: charset-normalizer~=2.0.0 in c:\\users\\carlo\\anaconda3\\lib\\site-packages (from requests->jupyterlab-server~=2.10->jupyterlab~=3.0->mitosheet) (2.0.4)\n",
      "Requirement already satisfied: argon2-cffi-bindings in c:\\users\\carlo\\anaconda3\\lib\\site-packages (from argon2-cffi->jupyter-server~=1.4->jupyterlab~=3.0->mitosheet) (21.2.0)\n",
      "Requirement already satisfied: cffi>=1.0.1 in c:\\users\\carlo\\anaconda3\\lib\\site-packages (from argon2-cffi-bindings->argon2-cffi->jupyter-server~=1.4->jupyterlab~=3.0->mitosheet) (1.15.0)\n",
      "Requirement already satisfied: pycparser in c:\\users\\carlo\\anaconda3\\lib\\site-packages (from cffi>=1.0.1->argon2-cffi-bindings->argon2-cffi->jupyter-server~=1.4->jupyterlab~=3.0->mitosheet) (2.21)\n",
      "Requirement already satisfied: matplotlib-inline<0.2.0,>=0.1.0 in c:\\users\\carlo\\anaconda3\\lib\\site-packages (from ipykernel->notebook<7->nbclassic~=0.2->jupyterlab~=3.0->mitosheet) (0.1.2)\n",
      "Requirement already satisfied: debugpy<2.0,>=1.0.0 in c:\\users\\carlo\\anaconda3\\lib\\site-packages (from ipykernel->notebook<7->nbclassic~=0.2->jupyterlab~=3.0->mitosheet) (1.5.1)\n",
      "Requirement already satisfied: jedi>=0.16 in c:\\users\\carlo\\anaconda3\\lib\\site-packages (from ipython->jupyterlab~=3.0->mitosheet) (0.18.1)\n",
      "Requirement already satisfied: decorator in c:\\users\\carlo\\anaconda3\\lib\\site-packages (from ipython->jupyterlab~=3.0->mitosheet) (5.1.1)\n",
      "Requirement already satisfied: backcall in c:\\users\\carlo\\anaconda3\\lib\\site-packages (from ipython->jupyterlab~=3.0->mitosheet) (0.2.0)\n",
      "Requirement already satisfied: prompt-toolkit!=3.0.0,!=3.0.1,<3.1.0,>=2.0.0 in c:\\users\\carlo\\anaconda3\\lib\\site-packages (from ipython->jupyterlab~=3.0->mitosheet) (3.0.20)\n",
      "Requirement already satisfied: pickleshare in c:\\users\\carlo\\anaconda3\\lib\\site-packages (from ipython->jupyterlab~=3.0->mitosheet) (0.7.5)\n",
      "Requirement already satisfied: stack-data in c:\\users\\carlo\\anaconda3\\lib\\site-packages (from ipython->jupyterlab~=3.0->mitosheet) (0.2.0)\n",
      "Requirement already satisfied: pygments>=2.4.0 in c:\\users\\carlo\\anaconda3\\lib\\site-packages (from ipython->jupyterlab~=3.0->mitosheet) (2.11.2)\n",
      "Requirement already satisfied: colorama in c:\\users\\carlo\\anaconda3\\lib\\site-packages (from ipython->jupyterlab~=3.0->mitosheet) (0.4.4)\n",
      "Requirement already satisfied: setuptools>=18.5 in c:\\users\\carlo\\anaconda3\\lib\\site-packages (from ipython->jupyterlab~=3.0->mitosheet) (61.2.0)\n",
      "Requirement already satisfied: parso<0.9.0,>=0.8.0 in c:\\users\\carlo\\anaconda3\\lib\\site-packages (from jedi>=0.16->ipython->jupyterlab~=3.0->mitosheet) (0.8.3)\n",
      "Requirement already satisfied: wcwidth in c:\\users\\carlo\\anaconda3\\lib\\site-packages (from prompt-toolkit!=3.0.0,!=3.0.1,<3.1.0,>=2.0.0->ipython->jupyterlab~=3.0->mitosheet) (0.2.5)\n",
      "Requirement already satisfied: defusedxml in c:\\users\\carlo\\anaconda3\\lib\\site-packages (from nbconvert->jupyter-server~=1.4->jupyterlab~=3.0->mitosheet) (0.7.1)\n",
      "Requirement already satisfied: pandocfilters>=1.4.1 in c:\\users\\carlo\\anaconda3\\lib\\site-packages (from nbconvert->jupyter-server~=1.4->jupyterlab~=3.0->mitosheet) (1.5.0)\n",
      "Requirement already satisfied: beautifulsoup4 in c:\\users\\carlo\\anaconda3\\lib\\site-packages (from nbconvert->jupyter-server~=1.4->jupyterlab~=3.0->mitosheet) (4.11.1)\n",
      "Requirement already satisfied: mistune<2,>=0.8.1 in c:\\users\\carlo\\anaconda3\\lib\\site-packages (from nbconvert->jupyter-server~=1.4->jupyterlab~=3.0->mitosheet) (0.8.4)\n",
      "Requirement already satisfied: nbclient<0.6.0,>=0.5.0 in c:\\users\\carlo\\anaconda3\\lib\\site-packages (from nbconvert->jupyter-server~=1.4->jupyterlab~=3.0->mitosheet) (0.5.13)\n",
      "Requirement already satisfied: jupyterlab-pygments in c:\\users\\carlo\\anaconda3\\lib\\site-packages (from nbconvert->jupyter-server~=1.4->jupyterlab~=3.0->mitosheet) (0.1.2)\n",
      "Requirement already satisfied: testpath in c:\\users\\carlo\\anaconda3\\lib\\site-packages (from nbconvert->jupyter-server~=1.4->jupyterlab~=3.0->mitosheet) (0.5.0)\n",
      "Requirement already satisfied: bleach in c:\\users\\carlo\\anaconda3\\lib\\site-packages (from nbconvert->jupyter-server~=1.4->jupyterlab~=3.0->mitosheet) (4.1.0)\n",
      "Requirement already satisfied: fastjsonschema in c:\\users\\carlo\\anaconda3\\lib\\site-packages (from nbformat->jupyter-server~=1.4->jupyterlab~=3.0->mitosheet) (2.15.1)\n",
      "Requirement already satisfied: soupsieve>1.2 in c:\\users\\carlo\\anaconda3\\lib\\site-packages (from beautifulsoup4->nbconvert->jupyter-server~=1.4->jupyterlab~=3.0->mitosheet) (2.3.1)\n",
      "Requirement already satisfied: webencodings in c:\\users\\carlo\\anaconda3\\lib\\site-packages (from bleach->nbconvert->jupyter-server~=1.4->jupyterlab~=3.0->mitosheet) (0.5.1)\n",
      "Requirement already satisfied: et-xmlfile in c:\\users\\carlo\\anaconda3\\lib\\site-packages (from openpyxl->mitosheet) (1.1.0)\n",
      "Requirement already satisfied: pyparsing!=3.0.5,>=2.0.2 in c:\\users\\carlo\\anaconda3\\lib\\site-packages (from packaging->jupyterlab~=3.0->mitosheet) (3.0.4)\n",
      "Requirement already satisfied: pure-eval in c:\\users\\carlo\\anaconda3\\lib\\site-packages (from stack-data->ipython->jupyterlab~=3.0->mitosheet) (0.2.2)\n",
      "Requirement already satisfied: executing in c:\\users\\carlo\\anaconda3\\lib\\site-packages (from stack-data->ipython->jupyterlab~=3.0->mitosheet) (0.8.3)\n",
      "Requirement already satisfied: asttokens in c:\\users\\carlo\\anaconda3\\lib\\site-packages (from stack-data->ipython->jupyterlab~=3.0->mitosheet) (2.0.5)\n",
      "Installing collected packages: pywinpty, xlsxwriter, mitosheet\n",
      "  Attempting uninstall: pywinpty\n",
      "    Found existing installation: pywinpty 2.0.2\n",
      "    Uninstalling pywinpty-2.0.2:\n",
      "      Successfully uninstalled pywinpty-2.0.2\n",
      "ERROR: Could not install packages due to an OSError: [WinError 5] Acceso denegado: 'C:\\\\Users\\\\carlo\\\\anaconda3\\\\Lib\\\\site-packages\\\\~inpty\\\\winpty.cp39-win_amd64.pyd'\n",
      "Consider using the `--user` option or check the permissions.\n",
      "\n",
      "\n",
      "\n",
      "During handling of the above exception, another exception occurred:\n",
      "\n",
      "Traceback (most recent call last):\n",
      "  File \"C:\\Users\\carlo\\anaconda3\\lib\\site-packages\\mitoinstaller\\installer_steps\\installer_step.py\", line 44, in execute\n",
      "    self.execution_function()\n",
      "  File \"C:\\Users\\carlo\\anaconda3\\lib\\site-packages\\mitoinstaller\\installer_steps\\mitosheet_installer_steps.py\", line 62, in install_step_mitosheet_install_mitosheet\n",
      "    raise PermissionError('Not enough permissions to install Mito. Try rerunning this command with the --user flag.')\n",
      "PermissionError: Not enough permissions to install Mito. Try rerunning this command with the --user flag.\n",
      "\n",
      "\n",
      "\n",
      "Sorry, looks like we hit a problem.\n",
      "We're happy to help you fix it ASAP. Just hop on our Discord, and and post in the install-help channel. We'll get you sorted in a few minutes:\n",
      "\n",
      "\t https://discord.com/invite/XdJSZyejJU\n",
      "\n"
     ]
    }
   ],
   "source": [
    "#! python -m mitoinstaller install"
   ]
  },
  {
   "cell_type": "code",
   "execution_count": 6,
   "id": "ff837e4d-b0e3-40de-b8b7-a1e5a5bdbdbf",
   "metadata": {
    "collapsed": true,
    "jupyter": {
     "outputs_hidden": true
    },
    "tags": []
   },
   "outputs": [
    {
     "name": "stdout",
     "output_type": "stream",
     "text": [
      "Requirement already satisfied: mitoinstaller in c:\\users\\carlo\\anaconda3\\lib\\site-packages (0.0.194)\n",
      "Requirement already satisfied: analytics-python in c:\\users\\carlo\\anaconda3\\lib\\site-packages (from mitoinstaller) (1.4.0)\n",
      "Requirement already satisfied: termcolor in c:\\users\\carlo\\anaconda3\\lib\\site-packages (from mitoinstaller) (2.2.0)\n",
      "Requirement already satisfied: colorama in c:\\users\\carlo\\anaconda3\\lib\\site-packages (from mitoinstaller) (0.4.4)\n",
      "Requirement already satisfied: six>=1.5 in c:\\users\\carlo\\anaconda3\\lib\\site-packages (from analytics-python->mitoinstaller) (1.16.0)\n",
      "Requirement already satisfied: requests<3.0,>=2.7 in c:\\users\\carlo\\anaconda3\\lib\\site-packages (from analytics-python->mitoinstaller) (2.27.1)\n",
      "Requirement already satisfied: backoff==1.10.0 in c:\\users\\carlo\\anaconda3\\lib\\site-packages (from analytics-python->mitoinstaller) (1.10.0)\n",
      "Requirement already satisfied: python-dateutil>2.1 in c:\\users\\carlo\\anaconda3\\lib\\site-packages (from analytics-python->mitoinstaller) (2.8.2)\n",
      "Requirement already satisfied: monotonic>=1.5 in c:\\users\\carlo\\anaconda3\\lib\\site-packages (from analytics-python->mitoinstaller) (1.6)\n",
      "Requirement already satisfied: idna<4,>=2.5 in c:\\users\\carlo\\anaconda3\\lib\\site-packages (from requests<3.0,>=2.7->analytics-python->mitoinstaller) (3.3)\n",
      "Requirement already satisfied: urllib3<1.27,>=1.21.1 in c:\\users\\carlo\\anaconda3\\lib\\site-packages (from requests<3.0,>=2.7->analytics-python->mitoinstaller) (1.26.9)\n",
      "Requirement already satisfied: certifi>=2017.4.17 in c:\\users\\carlo\\anaconda3\\lib\\site-packages (from requests<3.0,>=2.7->analytics-python->mitoinstaller) (2021.10.8)\n",
      "Requirement already satisfied: charset-normalizer~=2.0.0 in c:\\users\\carlo\\anaconda3\\lib\\site-packages (from requests<3.0,>=2.7->analytics-python->mitoinstaller) (2.0.4)\n"
     ]
    }
   ],
   "source": [
    "#!python -m pip install mitoinstaller"
   ]
  },
  {
   "cell_type": "code",
   "execution_count": null,
   "id": "7b190ef5-5ce3-47d0-9d2c-84032e7f6886",
   "metadata": {},
   "outputs": [],
   "source": [
    "import mitosheet\n",
    "mitosheet.sheet()"
   ]
  },
  {
   "cell_type": "code",
   "execution_count": null,
   "id": "79efa64b-63af-4baa-8063-30aee3190eca",
   "metadata": {},
   "outputs": [],
   "source": []
  }
 ],
 "metadata": {
  "kernelspec": {
   "display_name": "Python 3 (ipykernel)",
   "language": "python",
   "name": "python3"
  },
  "language_info": {
   "codemirror_mode": {
    "name": "ipython",
    "version": 3
   },
   "file_extension": ".py",
   "mimetype": "text/x-python",
   "name": "python",
   "nbconvert_exporter": "python",
   "pygments_lexer": "ipython3",
   "version": "3.9.12"
  }
 },
 "nbformat": 4,
 "nbformat_minor": 5
}
