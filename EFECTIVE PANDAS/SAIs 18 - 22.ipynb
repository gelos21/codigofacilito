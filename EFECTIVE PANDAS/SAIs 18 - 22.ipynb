{
 "cells": [
  {
   "cell_type": "markdown",
   "id": "382e1daa",
   "metadata": {},
   "source": [
    "#### Importando librerias necesarias"
   ]
  },
  {
   "cell_type": "code",
   "execution_count": 34,
   "id": "a9158bb1",
   "metadata": {},
   "outputs": [],
   "source": [
    "import pandas as pd\n",
    "import numpy as np\n",
    "import matplotlib.pyplot as plt\n",
    "from dateutil.relativedelta import relativedelta\n"
   ]
  },
  {
   "cell_type": "code",
   "execution_count": 35,
   "id": "7c820706",
   "metadata": {},
   "outputs": [
    {
     "data": {
      "text/html": [
       "<div>\n",
       "<style scoped>\n",
       "    .dataframe tbody tr th:only-of-type {\n",
       "        vertical-align: middle;\n",
       "    }\n",
       "\n",
       "    .dataframe tbody tr th {\n",
       "        vertical-align: top;\n",
       "    }\n",
       "\n",
       "    .dataframe thead th {\n",
       "        text-align: right;\n",
       "    }\n",
       "</style>\n",
       "<table border=\"1\" class=\"dataframe\">\n",
       "  <thead>\n",
       "    <tr style=\"text-align: right;\">\n",
       "      <th></th>\n",
       "      <th>Referencia</th>\n",
       "      <th>Descripción</th>\n",
       "      <th>Fecha</th>\n",
       "      <th>Salidas</th>\n",
       "      <th>Precio</th>\n",
       "      <th>Pedido de venta -&gt; Serie, ejercicio y nº pedido</th>\n",
       "      <th>Pedido de venta -&gt; Nº pedido</th>\n",
       "      <th>Factura de venta -&gt; Serie de factura emitida</th>\n",
       "      <th>Cliente</th>\n",
       "      <th>Cliente -&gt; Nombre fiscal</th>\n",
       "    </tr>\n",
       "  </thead>\n",
       "  <tbody>\n",
       "    <tr>\n",
       "      <th>0</th>\n",
       "      <td>PH 9100</td>\n",
       "      <td>Modulo SNMP para S.A.I. Phasak con Intelligent...</td>\n",
       "      <td>17-Ene-2018</td>\n",
       "      <td>1.0</td>\n",
       "      <td>127.6400</td>\n",
       "      <td>01/03-N/18-00296</td>\n",
       "      <td>296.0</td>\n",
       "      <td>1.0</td>\n",
       "      <td>58291</td>\n",
       "      <td>SPANRED S.L.U.</td>\n",
       "    </tr>\n",
       "    <tr>\n",
       "      <th>1</th>\n",
       "      <td>PH 9100</td>\n",
       "      <td>Modulo SNMP para S.A.I. Phasak con Intelligent...</td>\n",
       "      <td>5-Mar-2018</td>\n",
       "      <td>1.0</td>\n",
       "      <td>104.0000</td>\n",
       "      <td>01/03-N/18-01235</td>\n",
       "      <td>1235.0</td>\n",
       "      <td>1.0</td>\n",
       "      <td>15423</td>\n",
       "      <td>BELSATI SISTEMAS, S.L.</td>\n",
       "    </tr>\n",
       "    <tr>\n",
       "      <th>2</th>\n",
       "      <td>PH 9100</td>\n",
       "      <td>Modulo SNMP para S.A.I. Phasak con Intelligent...</td>\n",
       "      <td>7-Mar-2018</td>\n",
       "      <td>1.0</td>\n",
       "      <td>104.4300</td>\n",
       "      <td>01/04-M/18-00166</td>\n",
       "      <td>166.0</td>\n",
       "      <td>18.0</td>\n",
       "      <td>48078</td>\n",
       "      <td>GRUPO ELECTRO STOCKS S.L.U</td>\n",
       "    </tr>\n",
       "    <tr>\n",
       "      <th>3</th>\n",
       "      <td>PH 9100</td>\n",
       "      <td>Modulo SNMP para S.A.I. Phasak con Intelligent...</td>\n",
       "      <td>12-Mar-2018</td>\n",
       "      <td>1.0</td>\n",
       "      <td>104.4300</td>\n",
       "      <td>01/04-M/18-00180</td>\n",
       "      <td>180.0</td>\n",
       "      <td>18.0</td>\n",
       "      <td>28786</td>\n",
       "      <td>COMPONENTES INFORMATICOS ASTURIAS S.L.</td>\n",
       "    </tr>\n",
       "    <tr>\n",
       "      <th>4</th>\n",
       "      <td>PH 9100</td>\n",
       "      <td>Modulo SNMP para S.A.I. Phasak con Intelligent...</td>\n",
       "      <td>19-Mar-2018</td>\n",
       "      <td>1.0</td>\n",
       "      <td>86.0000</td>\n",
       "      <td>01/04-N/18-00009</td>\n",
       "      <td>9.0</td>\n",
       "      <td>1.0</td>\n",
       "      <td>58281</td>\n",
       "      <td>GESTSAI INGENIERIA SL</td>\n",
       "    </tr>\n",
       "    <tr>\n",
       "      <th>...</th>\n",
       "      <td>...</td>\n",
       "      <td>...</td>\n",
       "      <td>...</td>\n",
       "      <td>...</td>\n",
       "      <td>...</td>\n",
       "      <td>...</td>\n",
       "      <td>...</td>\n",
       "      <td>...</td>\n",
       "      <td>...</td>\n",
       "      <td>...</td>\n",
       "    </tr>\n",
       "    <tr>\n",
       "      <th>12878</th>\n",
       "      <td>PH 8032</td>\n",
       "      <td>Banco para Baterías (x12 baterias de 12V-9Ah) ...</td>\n",
       "      <td>25-Oct-2021</td>\n",
       "      <td>1.0</td>\n",
       "      <td>377.5600</td>\n",
       "      <td>01/04-M/21-00930</td>\n",
       "      <td>930.0</td>\n",
       "      <td>18.0</td>\n",
       "      <td>48078</td>\n",
       "      <td>GRUPO ELECTRO STOCKS S.L.U</td>\n",
       "    </tr>\n",
       "    <tr>\n",
       "      <th>12879</th>\n",
       "      <td>PH 8032</td>\n",
       "      <td>Banco para Baterías solo carcasa (x12 baterias...</td>\n",
       "      <td>26-Jul-2022</td>\n",
       "      <td>2.0</td>\n",
       "      <td>195.0000</td>\n",
       "      <td>01/08-N/22-02988</td>\n",
       "      <td>2988.0</td>\n",
       "      <td>1.0</td>\n",
       "      <td>65615</td>\n",
       "      <td>GIGATEK 2020 CONSULTORIA SLL</td>\n",
       "    </tr>\n",
       "    <tr>\n",
       "      <th>12880</th>\n",
       "      <td>PH 8032</td>\n",
       "      <td>Banco para Baterías solo carcasa (x12 baterias...</td>\n",
       "      <td>8-Ago-2022</td>\n",
       "      <td>3.0</td>\n",
       "      <td>188.2000</td>\n",
       "      <td>01/04-M/22-00627</td>\n",
       "      <td>627.0</td>\n",
       "      <td>18.0</td>\n",
       "      <td>48078</td>\n",
       "      <td>GRUPO ELECTRO STOCKS S.L.U</td>\n",
       "    </tr>\n",
       "    <tr>\n",
       "      <th>12881</th>\n",
       "      <td>PH 8030-RA+</td>\n",
       "      <td>S.A.I. Phasak Conqueror Recondicionado \"Grado ...</td>\n",
       "      <td>29-Ago-2022</td>\n",
       "      <td>1.0</td>\n",
       "      <td>249.3000</td>\n",
       "      <td>01/09-PM/22-01462</td>\n",
       "      <td>1462.0</td>\n",
       "      <td>NaN</td>\n",
       "      <td>66756</td>\n",
       "      <td>CLIENTE FACTURA SIMPLIFICADA PC COMPONENTES</td>\n",
       "    </tr>\n",
       "    <tr>\n",
       "      <th>12882</th>\n",
       "      <td>PH 7312-RA+</td>\n",
       "      <td>S.A.I. Phasak SIRIUS Recondicionado \"Grado A+\"...</td>\n",
       "      <td>20-Sep-2022</td>\n",
       "      <td>1.0</td>\n",
       "      <td>102.0000</td>\n",
       "      <td>01/09-PM/22-01598</td>\n",
       "      <td>1598.0</td>\n",
       "      <td>45.0</td>\n",
       "      <td>66998</td>\n",
       "      <td>CLIENTE FACTURA SIMPLIFICADA ALI EXPRESS</td>\n",
       "    </tr>\n",
       "  </tbody>\n",
       "</table>\n",
       "<p>12883 rows × 10 columns</p>\n",
       "</div>"
      ],
      "text/plain": [
       "        Referencia                                        Descripción  \\\n",
       "0          PH 9100  Modulo SNMP para S.A.I. Phasak con Intelligent...   \n",
       "1          PH 9100  Modulo SNMP para S.A.I. Phasak con Intelligent...   \n",
       "2          PH 9100  Modulo SNMP para S.A.I. Phasak con Intelligent...   \n",
       "3          PH 9100  Modulo SNMP para S.A.I. Phasak con Intelligent...   \n",
       "4          PH 9100  Modulo SNMP para S.A.I. Phasak con Intelligent...   \n",
       "...            ...                                                ...   \n",
       "12878      PH 8032  Banco para Baterías (x12 baterias de 12V-9Ah) ...   \n",
       "12879      PH 8032  Banco para Baterías solo carcasa (x12 baterias...   \n",
       "12880      PH 8032  Banco para Baterías solo carcasa (x12 baterias...   \n",
       "12881  PH 8030-RA+  S.A.I. Phasak Conqueror Recondicionado \"Grado ...   \n",
       "12882  PH 7312-RA+  S.A.I. Phasak SIRIUS Recondicionado \"Grado A+\"...   \n",
       "\n",
       "             Fecha  Salidas    Precio  \\\n",
       "0      17-Ene-2018      1.0  127.6400   \n",
       "1       5-Mar-2018      1.0  104.0000   \n",
       "2       7-Mar-2018      1.0  104.4300   \n",
       "3      12-Mar-2018      1.0  104.4300   \n",
       "4      19-Mar-2018      1.0   86.0000   \n",
       "...            ...      ...       ...   \n",
       "12878  25-Oct-2021      1.0  377.5600   \n",
       "12879  26-Jul-2022      2.0  195.0000   \n",
       "12880   8-Ago-2022      3.0  188.2000   \n",
       "12881  29-Ago-2022      1.0  249.3000   \n",
       "12882  20-Sep-2022      1.0  102.0000   \n",
       "\n",
       "      Pedido de venta -> Serie, ejercicio y nº pedido  \\\n",
       "0                                    01/03-N/18-00296   \n",
       "1                                    01/03-N/18-01235   \n",
       "2                                    01/04-M/18-00166   \n",
       "3                                    01/04-M/18-00180   \n",
       "4                                    01/04-N/18-00009   \n",
       "...                                               ...   \n",
       "12878                                01/04-M/21-00930   \n",
       "12879                                01/08-N/22-02988   \n",
       "12880                                01/04-M/22-00627   \n",
       "12881                               01/09-PM/22-01462   \n",
       "12882                               01/09-PM/22-01598   \n",
       "\n",
       "       Pedido de venta -> Nº pedido  \\\n",
       "0                             296.0   \n",
       "1                            1235.0   \n",
       "2                             166.0   \n",
       "3                             180.0   \n",
       "4                               9.0   \n",
       "...                             ...   \n",
       "12878                         930.0   \n",
       "12879                        2988.0   \n",
       "12880                         627.0   \n",
       "12881                        1462.0   \n",
       "12882                        1598.0   \n",
       "\n",
       "       Factura de venta -> Serie de factura emitida Cliente  \\\n",
       "0                                               1.0   58291   \n",
       "1                                               1.0   15423   \n",
       "2                                              18.0   48078   \n",
       "3                                              18.0   28786   \n",
       "4                                               1.0   58281   \n",
       "...                                             ...     ...   \n",
       "12878                                          18.0   48078   \n",
       "12879                                           1.0   65615   \n",
       "12880                                          18.0   48078   \n",
       "12881                                           NaN   66756   \n",
       "12882                                          45.0   66998   \n",
       "\n",
       "                          Cliente -> Nombre fiscal  \n",
       "0                                   SPANRED S.L.U.  \n",
       "1                           BELSATI SISTEMAS, S.L.  \n",
       "2                       GRUPO ELECTRO STOCKS S.L.U  \n",
       "3           COMPONENTES INFORMATICOS ASTURIAS S.L.  \n",
       "4                            GESTSAI INGENIERIA SL  \n",
       "...                                            ...  \n",
       "12878                   GRUPO ELECTRO STOCKS S.L.U  \n",
       "12879                 GIGATEK 2020 CONSULTORIA SLL  \n",
       "12880                   GRUPO ELECTRO STOCKS S.L.U  \n",
       "12881  CLIENTE FACTURA SIMPLIFICADA PC COMPONENTES  \n",
       "12882     CLIENTE FACTURA SIMPLIFICADA ALI EXPRESS  \n",
       "\n",
       "[12883 rows x 10 columns]"
      ]
     },
     "execution_count": 35,
     "metadata": {},
     "output_type": "execute_result"
    }
   ],
   "source": [
    "data = pd.read_csv('/home/ubuntu/projects/codigofacilito/Pandas_ventas_sais_18-22.csv', sep=';', encoding='latin')\n",
    "data\n"
   ]
  },
  {
   "cell_type": "code",
   "execution_count": 36,
   "id": "5e94d814",
   "metadata": {},
   "outputs": [
    {
     "data": {
      "text/plain": [
       "Referencia                                          object\n",
       "Descripción                                         object\n",
       "Fecha                                               object\n",
       "Salidas                                            float64\n",
       "Precio                                              object\n",
       "Pedido de venta -> Serie, ejercicio y nº pedido     object\n",
       "Pedido de venta -> Nº pedido                       float64\n",
       "Factura de venta -> Serie de factura emitida       float64\n",
       "Cliente                                             object\n",
       "Cliente -> Nombre fiscal                            object\n",
       "dtype: object"
      ]
     },
     "execution_count": 36,
     "metadata": {},
     "output_type": "execute_result"
    }
   ],
   "source": [
    "data.dtypes"
   ]
  },
  {
   "cell_type": "code",
   "execution_count": 37,
   "id": "86a9823a",
   "metadata": {},
   "outputs": [
    {
     "name": "stdout",
     "output_type": "stream",
     "text": [
      "<class 'pandas.core.frame.DataFrame'>\n",
      "RangeIndex: 12883 entries, 0 to 12882\n",
      "Data columns (total 10 columns):\n",
      " #   Column                                           Non-Null Count  Dtype  \n",
      "---  ------                                           --------------  -----  \n",
      " 0   Referencia                                       12883 non-null  object \n",
      " 1   Descripción                                      12874 non-null  object \n",
      " 2   Fecha                                            12873 non-null  object \n",
      " 3   Salidas                                          12873 non-null  float64\n",
      " 4   Precio                                           12873 non-null  object \n",
      " 5   Pedido de venta -> Serie, ejercicio y nº pedido  12779 non-null  object \n",
      " 6   Pedido de venta -> Nº pedido                     12779 non-null  float64\n",
      " 7   Factura de venta -> Serie de factura emitida     12519 non-null  float64\n",
      " 8   Cliente                                          12873 non-null  object \n",
      " 9   Cliente -> Nombre fiscal                         12872 non-null  object \n",
      "dtypes: float64(3), object(7)\n",
      "memory usage: 1006.6+ KB\n"
     ]
    }
   ],
   "source": [
    "data.info()"
   ]
  },
  {
   "cell_type": "code",
   "execution_count": 38,
   "id": "d5df2453",
   "metadata": {},
   "outputs": [
    {
     "data": {
      "text/plain": [
       "Index(['Referencia', 'Descripción', 'Fecha', 'Salidas', 'Precio',\n",
       "       'Pedido de venta -> Serie, ejercicio y nº pedido',\n",
       "       'Pedido de venta -> Nº pedido',\n",
       "       'Factura de venta -> Serie de factura emitida', 'Cliente',\n",
       "       'Cliente -> Nombre fiscal'],\n",
       "      dtype='object')"
      ]
     },
     "execution_count": 38,
     "metadata": {},
     "output_type": "execute_result"
    }
   ],
   "source": [
    "data.columns"
   ]
  },
  {
   "cell_type": "markdown",
   "id": "fda14403",
   "metadata": {},
   "source": [
    "#### Aqui cambiamos el nombre a las columnas"
   ]
  },
  {
   "cell_type": "code",
   "execution_count": 102,
   "id": "d0a633ce",
   "metadata": {},
   "outputs": [
    {
     "data": {
      "text/html": [
       "<div>\n",
       "<style scoped>\n",
       "    .dataframe tbody tr th:only-of-type {\n",
       "        vertical-align: middle;\n",
       "    }\n",
       "\n",
       "    .dataframe tbody tr th {\n",
       "        vertical-align: top;\n",
       "    }\n",
       "\n",
       "    .dataframe thead th {\n",
       "        text-align: right;\n",
       "    }\n",
       "</style>\n",
       "<table border=\"1\" class=\"dataframe\">\n",
       "  <thead>\n",
       "    <tr style=\"text-align: right;\">\n",
       "      <th></th>\n",
       "      <th>referencia</th>\n",
       "      <th>descripcion</th>\n",
       "      <th>fecha</th>\n",
       "      <th>salidas</th>\n",
       "      <th>precio</th>\n",
       "      <th>pedido</th>\n",
       "      <th>num_pedido</th>\n",
       "      <th>serie_factura</th>\n",
       "      <th>cliente</th>\n",
       "      <th>nombre_cliente</th>\n",
       "    </tr>\n",
       "  </thead>\n",
       "  <tbody>\n",
       "    <tr>\n",
       "      <th>0</th>\n",
       "      <td>PH 9100</td>\n",
       "      <td>Modulo SNMP para S.A.I. Phasak con Intelligent...</td>\n",
       "      <td>17-Ene-2018</td>\n",
       "      <td>1.0</td>\n",
       "      <td>127.6400</td>\n",
       "      <td>01/03-N/18-00296</td>\n",
       "      <td>296.0</td>\n",
       "      <td>1.0</td>\n",
       "      <td>58291</td>\n",
       "      <td>SPANRED S.L.U.</td>\n",
       "    </tr>\n",
       "    <tr>\n",
       "      <th>1</th>\n",
       "      <td>PH 9100</td>\n",
       "      <td>Modulo SNMP para S.A.I. Phasak con Intelligent...</td>\n",
       "      <td>5-Mar-2018</td>\n",
       "      <td>1.0</td>\n",
       "      <td>104.0000</td>\n",
       "      <td>01/03-N/18-01235</td>\n",
       "      <td>1235.0</td>\n",
       "      <td>1.0</td>\n",
       "      <td>15423</td>\n",
       "      <td>BELSATI SISTEMAS, S.L.</td>\n",
       "    </tr>\n",
       "    <tr>\n",
       "      <th>2</th>\n",
       "      <td>PH 9100</td>\n",
       "      <td>Modulo SNMP para S.A.I. Phasak con Intelligent...</td>\n",
       "      <td>7-Mar-2018</td>\n",
       "      <td>1.0</td>\n",
       "      <td>104.4300</td>\n",
       "      <td>01/04-M/18-00166</td>\n",
       "      <td>166.0</td>\n",
       "      <td>18.0</td>\n",
       "      <td>48078</td>\n",
       "      <td>GRUPO ELECTRO STOCKS S.L.U</td>\n",
       "    </tr>\n",
       "    <tr>\n",
       "      <th>3</th>\n",
       "      <td>PH 9100</td>\n",
       "      <td>Modulo SNMP para S.A.I. Phasak con Intelligent...</td>\n",
       "      <td>12-Mar-2018</td>\n",
       "      <td>1.0</td>\n",
       "      <td>104.4300</td>\n",
       "      <td>01/04-M/18-00180</td>\n",
       "      <td>180.0</td>\n",
       "      <td>18.0</td>\n",
       "      <td>28786</td>\n",
       "      <td>COMPONENTES INFORMATICOS ASTURIAS S.L.</td>\n",
       "    </tr>\n",
       "    <tr>\n",
       "      <th>4</th>\n",
       "      <td>PH 9100</td>\n",
       "      <td>Modulo SNMP para S.A.I. Phasak con Intelligent...</td>\n",
       "      <td>19-Mar-2018</td>\n",
       "      <td>1.0</td>\n",
       "      <td>86.0000</td>\n",
       "      <td>01/04-N/18-00009</td>\n",
       "      <td>9.0</td>\n",
       "      <td>1.0</td>\n",
       "      <td>58281</td>\n",
       "      <td>GESTSAI INGENIERIA SL</td>\n",
       "    </tr>\n",
       "  </tbody>\n",
       "</table>\n",
       "</div>"
      ],
      "text/plain": [
       "  referencia                                        descripcion        fecha  \\\n",
       "0    PH 9100  Modulo SNMP para S.A.I. Phasak con Intelligent...  17-Ene-2018   \n",
       "1    PH 9100  Modulo SNMP para S.A.I. Phasak con Intelligent...   5-Mar-2018   \n",
       "2    PH 9100  Modulo SNMP para S.A.I. Phasak con Intelligent...   7-Mar-2018   \n",
       "3    PH 9100  Modulo SNMP para S.A.I. Phasak con Intelligent...  12-Mar-2018   \n",
       "4    PH 9100  Modulo SNMP para S.A.I. Phasak con Intelligent...  19-Mar-2018   \n",
       "\n",
       "   salidas    precio            pedido  num_pedido  serie_factura cliente  \\\n",
       "0      1.0  127.6400  01/03-N/18-00296       296.0            1.0   58291   \n",
       "1      1.0  104.0000  01/03-N/18-01235      1235.0            1.0   15423   \n",
       "2      1.0  104.4300  01/04-M/18-00166       166.0           18.0   48078   \n",
       "3      1.0  104.4300  01/04-M/18-00180       180.0           18.0   28786   \n",
       "4      1.0   86.0000  01/04-N/18-00009         9.0            1.0   58281   \n",
       "\n",
       "                           nombre_cliente  \n",
       "0                          SPANRED S.L.U.  \n",
       "1                  BELSATI SISTEMAS, S.L.  \n",
       "2              GRUPO ELECTRO STOCKS S.L.U  \n",
       "3  COMPONENTES INFORMATICOS ASTURIAS S.L.  \n",
       "4                   GESTSAI INGENIERIA SL  "
      ]
     },
     "execution_count": 102,
     "metadata": {},
     "output_type": "execute_result"
    }
   ],
   "source": [
    "data.rename(columns={'Cliente -> Nombre fiscal': 'nombre_cliente', \n",
    "                     'Pedido de venta -> Nº pedido': 'num_pedido', \n",
    "                     'Pedido de venta -> Serie, ejercicio y nº pedido': 'pedido',\n",
    "                     'Factura de venta -> Serie de factura emitida': 'serie_factura',\n",
    "                    }, inplace=True)\n",
    "data.head()"
   ]
  },
  {
   "cell_type": "code",
   "execution_count": 103,
   "id": "a48487ff",
   "metadata": {},
   "outputs": [
    {
     "data": {
      "text/html": [
       "<div>\n",
       "<style scoped>\n",
       "    .dataframe tbody tr th:only-of-type {\n",
       "        vertical-align: middle;\n",
       "    }\n",
       "\n",
       "    .dataframe tbody tr th {\n",
       "        vertical-align: top;\n",
       "    }\n",
       "\n",
       "    .dataframe thead th {\n",
       "        text-align: right;\n",
       "    }\n",
       "</style>\n",
       "<table border=\"1\" class=\"dataframe\">\n",
       "  <thead>\n",
       "    <tr style=\"text-align: right;\">\n",
       "      <th></th>\n",
       "      <th>referencia</th>\n",
       "      <th>descripcion</th>\n",
       "      <th>fecha</th>\n",
       "      <th>salidas</th>\n",
       "      <th>precio</th>\n",
       "      <th>pedido</th>\n",
       "      <th>num_pedido</th>\n",
       "      <th>serie_factura</th>\n",
       "      <th>cliente</th>\n",
       "      <th>nombre_cliente</th>\n",
       "    </tr>\n",
       "  </thead>\n",
       "  <tbody>\n",
       "    <tr>\n",
       "      <th>0</th>\n",
       "      <td>PH 9100</td>\n",
       "      <td>Modulo SNMP para S.A.I. Phasak con Intelligent...</td>\n",
       "      <td>17-Ene-2018</td>\n",
       "      <td>1.0</td>\n",
       "      <td>127.6400</td>\n",
       "      <td>01/03-N/18-00296</td>\n",
       "      <td>296.0</td>\n",
       "      <td>1.0</td>\n",
       "      <td>58291</td>\n",
       "      <td>SPANRED S.L.U.</td>\n",
       "    </tr>\n",
       "    <tr>\n",
       "      <th>1</th>\n",
       "      <td>PH 9100</td>\n",
       "      <td>Modulo SNMP para S.A.I. Phasak con Intelligent...</td>\n",
       "      <td>5-Mar-2018</td>\n",
       "      <td>1.0</td>\n",
       "      <td>104.0000</td>\n",
       "      <td>01/03-N/18-01235</td>\n",
       "      <td>1235.0</td>\n",
       "      <td>1.0</td>\n",
       "      <td>15423</td>\n",
       "      <td>BELSATI SISTEMAS, S.L.</td>\n",
       "    </tr>\n",
       "    <tr>\n",
       "      <th>2</th>\n",
       "      <td>PH 9100</td>\n",
       "      <td>Modulo SNMP para S.A.I. Phasak con Intelligent...</td>\n",
       "      <td>7-Mar-2018</td>\n",
       "      <td>1.0</td>\n",
       "      <td>104.4300</td>\n",
       "      <td>01/04-M/18-00166</td>\n",
       "      <td>166.0</td>\n",
       "      <td>18.0</td>\n",
       "      <td>48078</td>\n",
       "      <td>GRUPO ELECTRO STOCKS S.L.U</td>\n",
       "    </tr>\n",
       "    <tr>\n",
       "      <th>3</th>\n",
       "      <td>PH 9100</td>\n",
       "      <td>Modulo SNMP para S.A.I. Phasak con Intelligent...</td>\n",
       "      <td>12-Mar-2018</td>\n",
       "      <td>1.0</td>\n",
       "      <td>104.4300</td>\n",
       "      <td>01/04-M/18-00180</td>\n",
       "      <td>180.0</td>\n",
       "      <td>18.0</td>\n",
       "      <td>28786</td>\n",
       "      <td>COMPONENTES INFORMATICOS ASTURIAS S.L.</td>\n",
       "    </tr>\n",
       "    <tr>\n",
       "      <th>4</th>\n",
       "      <td>PH 9100</td>\n",
       "      <td>Modulo SNMP para S.A.I. Phasak con Intelligent...</td>\n",
       "      <td>19-Mar-2018</td>\n",
       "      <td>1.0</td>\n",
       "      <td>86.0000</td>\n",
       "      <td>01/04-N/18-00009</td>\n",
       "      <td>9.0</td>\n",
       "      <td>1.0</td>\n",
       "      <td>58281</td>\n",
       "      <td>GESTSAI INGENIERIA SL</td>\n",
       "    </tr>\n",
       "  </tbody>\n",
       "</table>\n",
       "</div>"
      ],
      "text/plain": [
       "  referencia                                        descripcion        fecha  \\\n",
       "0    PH 9100  Modulo SNMP para S.A.I. Phasak con Intelligent...  17-Ene-2018   \n",
       "1    PH 9100  Modulo SNMP para S.A.I. Phasak con Intelligent...   5-Mar-2018   \n",
       "2    PH 9100  Modulo SNMP para S.A.I. Phasak con Intelligent...   7-Mar-2018   \n",
       "3    PH 9100  Modulo SNMP para S.A.I. Phasak con Intelligent...  12-Mar-2018   \n",
       "4    PH 9100  Modulo SNMP para S.A.I. Phasak con Intelligent...  19-Mar-2018   \n",
       "\n",
       "   salidas    precio            pedido  num_pedido  serie_factura cliente  \\\n",
       "0      1.0  127.6400  01/03-N/18-00296       296.0            1.0   58291   \n",
       "1      1.0  104.0000  01/03-N/18-01235      1235.0            1.0   15423   \n",
       "2      1.0  104.4300  01/04-M/18-00166       166.0           18.0   48078   \n",
       "3      1.0  104.4300  01/04-M/18-00180       180.0           18.0   28786   \n",
       "4      1.0   86.0000  01/04-N/18-00009         9.0            1.0   58281   \n",
       "\n",
       "                           nombre_cliente  \n",
       "0                          SPANRED S.L.U.  \n",
       "1                  BELSATI SISTEMAS, S.L.  \n",
       "2              GRUPO ELECTRO STOCKS S.L.U  \n",
       "3  COMPONENTES INFORMATICOS ASTURIAS S.L.  \n",
       "4                   GESTSAI INGENIERIA SL  "
      ]
     },
     "execution_count": 103,
     "metadata": {},
     "output_type": "execute_result"
    }
   ],
   "source": [
    "data.head()"
   ]
  },
  {
   "cell_type": "code",
   "execution_count": 105,
   "id": "fc4c55a6",
   "metadata": {},
   "outputs": [],
   "source": [
    "data.rename(columns={'Descripción': 'descripcion',\n",
    "                     'Referencia': 'referencia',\n",
    "                     'Fecha': 'fecha',\n",
    "                     'Salidas': 'salidas', \n",
    "                     'Precio': 'precio',\n",
    "                     'Cliente': 'cliente'}, inplace=True)"
   ]
  },
  {
   "cell_type": "code",
   "execution_count": 66,
   "id": "a6fbf6a0",
   "metadata": {},
   "outputs": [
    {
     "data": {
      "text/plain": [
       "referencia        False\n",
       "descripcion        True\n",
       "fecha              True\n",
       "salidas            True\n",
       "precio             True\n",
       "pedido             True\n",
       "num_pedido         True\n",
       "serie_factura      True\n",
       "cliente            True\n",
       "nombre_cliente     True\n",
       "dtype: bool"
      ]
     },
     "execution_count": 66,
     "metadata": {},
     "output_type": "execute_result"
    }
   ],
   "source": [
    "data.isnull().any()"
   ]
  },
  {
   "cell_type": "code",
   "execution_count": 67,
   "id": "45daa686",
   "metadata": {},
   "outputs": [
    {
     "data": {
      "text/plain": [
       "referencia          0\n",
       "descripcion         9\n",
       "fecha              10\n",
       "salidas            10\n",
       "precio             10\n",
       "pedido            104\n",
       "num_pedido        104\n",
       "serie_factura     364\n",
       "cliente            10\n",
       "nombre_cliente     11\n",
       "dtype: int64"
      ]
     },
     "execution_count": 67,
     "metadata": {},
     "output_type": "execute_result"
    }
   ],
   "source": [
    "# Sumamos todos los datos nulos por columna y mostramos\n",
    "pedidos_missing = data.isnull().sum()\n",
    "pedidos_missing"
   ]
  },
  {
   "cell_type": "code",
   "execution_count": 68,
   "id": "59a2b416",
   "metadata": {},
   "outputs": [],
   "source": [
    "#importamos libreria para manejar fechas\n",
    "from dateutil.relativedelta import relativedelta"
   ]
  },
  {
   "cell_type": "code",
   "execution_count": 69,
   "id": "a9a8ecbf",
   "metadata": {},
   "outputs": [],
   "source": [
    "#Aqui quitamos todos los nulos del dataframe y lo guardamos.\n",
    "df = data.dropna()"
   ]
  },
  {
   "cell_type": "code",
   "execution_count": 70,
   "id": "354cc6c2",
   "metadata": {},
   "outputs": [
    {
     "name": "stdout",
     "output_type": "stream",
     "text": [
      "<class 'pandas.core.frame.DataFrame'>\n",
      "Int64Index: 12517 entries, 0 to 12882\n",
      "Data columns (total 10 columns):\n",
      " #   Column          Non-Null Count  Dtype  \n",
      "---  ------          --------------  -----  \n",
      " 0   referencia      12517 non-null  object \n",
      " 1   descripcion     12517 non-null  object \n",
      " 2   fecha           12517 non-null  object \n",
      " 3   salidas         12517 non-null  float64\n",
      " 4   precio          12517 non-null  object \n",
      " 5   pedido          12517 non-null  object \n",
      " 6   num_pedido      12517 non-null  float64\n",
      " 7   serie_factura   12517 non-null  float64\n",
      " 8   cliente         12517 non-null  object \n",
      " 9   nombre_cliente  12517 non-null  object \n",
      "dtypes: float64(3), object(7)\n",
      "memory usage: 1.1+ MB\n"
     ]
    }
   ],
   "source": [
    "df.info()"
   ]
  },
  {
   "cell_type": "markdown",
   "id": "719ff2fc",
   "metadata": {},
   "source": [
    "#### En las siguientes lineas asignamos los tipos correctos de datos a cada columna"
   ]
  },
  {
   "cell_type": "code",
   "execution_count": 80,
   "id": "5e3c3b7c",
   "metadata": {
    "collapsed": true
   },
   "outputs": [
    {
     "name": "stderr",
     "output_type": "stream",
     "text": [
      "/tmp/ipykernel_254799/3988072517.py:1: SettingWithCopyWarning: \n",
      "A value is trying to be set on a copy of a slice from a DataFrame.\n",
      "Try using .loc[row_indexer,col_indexer] = value instead\n",
      "\n",
      "See the caveats in the documentation: https://pandas.pydata.org/pandas-docs/stable/user_guide/indexing.html#returning-a-view-versus-a-copy\n",
      "  df[\"num_pedido\"]= df[\"num_pedido\"].astype('int64')\n"
     ]
    }
   ],
   "source": [
    "df[\"num_pedido\"]= df[\"num_pedido\"].astype('int64')"
   ]
  },
  {
   "cell_type": "code",
   "execution_count": 81,
   "id": "a2bde2fb",
   "metadata": {
    "collapsed": true
   },
   "outputs": [
    {
     "name": "stderr",
     "output_type": "stream",
     "text": [
      "/tmp/ipykernel_254799/1431132011.py:1: SettingWithCopyWarning: \n",
      "A value is trying to be set on a copy of a slice from a DataFrame.\n",
      "Try using .loc[row_indexer,col_indexer] = value instead\n",
      "\n",
      "See the caveats in the documentation: https://pandas.pydata.org/pandas-docs/stable/user_guide/indexing.html#returning-a-view-versus-a-copy\n",
      "  df[\"salidas\"]= df[\"salidas\"].astype('int64')\n"
     ]
    }
   ],
   "source": [
    "df[\"salidas\"]= df[\"salidas\"].astype('int64')"
   ]
  },
  {
   "cell_type": "code",
   "execution_count": 82,
   "id": "8911bef0",
   "metadata": {
    "collapsed": true
   },
   "outputs": [
    {
     "name": "stderr",
     "output_type": "stream",
     "text": [
      "/tmp/ipykernel_254799/2870409620.py:1: SettingWithCopyWarning: \n",
      "A value is trying to be set on a copy of a slice from a DataFrame.\n",
      "Try using .loc[row_indexer,col_indexer] = value instead\n",
      "\n",
      "See the caveats in the documentation: https://pandas.pydata.org/pandas-docs/stable/user_guide/indexing.html#returning-a-view-versus-a-copy\n",
      "  df[\"precio\"]= df[\"precio\"].astype('float64')\n"
     ]
    }
   ],
   "source": [
    "df[\"precio\"]= df[\"precio\"].astype('float64')"
   ]
  },
  {
   "cell_type": "code",
   "execution_count": 83,
   "id": "eff7265c",
   "metadata": {
    "collapsed": true
   },
   "outputs": [
    {
     "name": "stderr",
     "output_type": "stream",
     "text": [
      "/tmp/ipykernel_254799/3988072517.py:1: SettingWithCopyWarning: \n",
      "A value is trying to be set on a copy of a slice from a DataFrame.\n",
      "Try using .loc[row_indexer,col_indexer] = value instead\n",
      "\n",
      "See the caveats in the documentation: https://pandas.pydata.org/pandas-docs/stable/user_guide/indexing.html#returning-a-view-versus-a-copy\n",
      "  df[\"num_pedido\"]= df[\"num_pedido\"].astype('int64')\n"
     ]
    }
   ],
   "source": [
    "df[\"num_pedido\"]= df[\"num_pedido\"].astype('int64')"
   ]
  },
  {
   "cell_type": "code",
   "execution_count": 84,
   "id": "274238d0",
   "metadata": {
    "collapsed": true
   },
   "outputs": [
    {
     "name": "stderr",
     "output_type": "stream",
     "text": [
      "/tmp/ipykernel_254799/3351570582.py:1: SettingWithCopyWarning: \n",
      "A value is trying to be set on a copy of a slice from a DataFrame.\n",
      "Try using .loc[row_indexer,col_indexer] = value instead\n",
      "\n",
      "See the caveats in the documentation: https://pandas.pydata.org/pandas-docs/stable/user_guide/indexing.html#returning-a-view-versus-a-copy\n",
      "  df[\"serie_factura\"]= df[\"serie_factura\"].astype('int64')\n"
     ]
    }
   ],
   "source": [
    "df[\"serie_factura\"]= df[\"serie_factura\"].astype('int64')"
   ]
  },
  {
   "cell_type": "code",
   "execution_count": 85,
   "id": "9f0a85a1",
   "metadata": {
    "collapsed": true
   },
   "outputs": [
    {
     "name": "stderr",
     "output_type": "stream",
     "text": [
      "/tmp/ipykernel_254799/3264482647.py:1: SettingWithCopyWarning: \n",
      "A value is trying to be set on a copy of a slice from a DataFrame.\n",
      "Try using .loc[row_indexer,col_indexer] = value instead\n",
      "\n",
      "See the caveats in the documentation: https://pandas.pydata.org/pandas-docs/stable/user_guide/indexing.html#returning-a-view-versus-a-copy\n",
      "  df[\"cliente\"]= df[\"cliente\"].astype('int64')\n"
     ]
    }
   ],
   "source": [
    "df[\"cliente\"]= df[\"cliente\"].astype('int64')"
   ]
  },
  {
   "cell_type": "code",
   "execution_count": 72,
   "id": "381bfe6a",
   "metadata": {},
   "outputs": [
    {
     "data": {
      "text/html": [
       "<div>\n",
       "<style scoped>\n",
       "    .dataframe tbody tr th:only-of-type {\n",
       "        vertical-align: middle;\n",
       "    }\n",
       "\n",
       "    .dataframe tbody tr th {\n",
       "        vertical-align: top;\n",
       "    }\n",
       "\n",
       "    .dataframe thead th {\n",
       "        text-align: right;\n",
       "    }\n",
       "</style>\n",
       "<table border=\"1\" class=\"dataframe\">\n",
       "  <thead>\n",
       "    <tr style=\"text-align: right;\">\n",
       "      <th></th>\n",
       "      <th>referencia</th>\n",
       "      <th>descripcion</th>\n",
       "      <th>fecha</th>\n",
       "      <th>salidas</th>\n",
       "      <th>precio</th>\n",
       "      <th>pedido</th>\n",
       "      <th>num_pedido</th>\n",
       "      <th>serie_factura</th>\n",
       "      <th>cliente</th>\n",
       "      <th>nombre_cliente</th>\n",
       "    </tr>\n",
       "  </thead>\n",
       "  <tbody>\n",
       "    <tr>\n",
       "      <th>0</th>\n",
       "      <td>PH 9100</td>\n",
       "      <td>Modulo SNMP para S.A.I. Phasak con Intelligent...</td>\n",
       "      <td>17-Ene-2018</td>\n",
       "      <td>1.0</td>\n",
       "      <td>127.6400</td>\n",
       "      <td>01/03-N/18-00296</td>\n",
       "      <td>296.0</td>\n",
       "      <td>1</td>\n",
       "      <td>58291</td>\n",
       "      <td>SPANRED S.L.U.</td>\n",
       "    </tr>\n",
       "    <tr>\n",
       "      <th>1</th>\n",
       "      <td>PH 9100</td>\n",
       "      <td>Modulo SNMP para S.A.I. Phasak con Intelligent...</td>\n",
       "      <td>5-Mar-2018</td>\n",
       "      <td>1.0</td>\n",
       "      <td>104.0000</td>\n",
       "      <td>01/03-N/18-01235</td>\n",
       "      <td>1235.0</td>\n",
       "      <td>1</td>\n",
       "      <td>15423</td>\n",
       "      <td>BELSATI SISTEMAS, S.L.</td>\n",
       "    </tr>\n",
       "    <tr>\n",
       "      <th>2</th>\n",
       "      <td>PH 9100</td>\n",
       "      <td>Modulo SNMP para S.A.I. Phasak con Intelligent...</td>\n",
       "      <td>7-Mar-2018</td>\n",
       "      <td>1.0</td>\n",
       "      <td>104.4300</td>\n",
       "      <td>01/04-M/18-00166</td>\n",
       "      <td>166.0</td>\n",
       "      <td>18</td>\n",
       "      <td>48078</td>\n",
       "      <td>GRUPO ELECTRO STOCKS S.L.U</td>\n",
       "    </tr>\n",
       "    <tr>\n",
       "      <th>3</th>\n",
       "      <td>PH 9100</td>\n",
       "      <td>Modulo SNMP para S.A.I. Phasak con Intelligent...</td>\n",
       "      <td>12-Mar-2018</td>\n",
       "      <td>1.0</td>\n",
       "      <td>104.4300</td>\n",
       "      <td>01/04-M/18-00180</td>\n",
       "      <td>180.0</td>\n",
       "      <td>18</td>\n",
       "      <td>28786</td>\n",
       "      <td>COMPONENTES INFORMATICOS ASTURIAS S.L.</td>\n",
       "    </tr>\n",
       "    <tr>\n",
       "      <th>4</th>\n",
       "      <td>PH 9100</td>\n",
       "      <td>Modulo SNMP para S.A.I. Phasak con Intelligent...</td>\n",
       "      <td>19-Mar-2018</td>\n",
       "      <td>1.0</td>\n",
       "      <td>86.0000</td>\n",
       "      <td>01/04-N/18-00009</td>\n",
       "      <td>9.0</td>\n",
       "      <td>1</td>\n",
       "      <td>58281</td>\n",
       "      <td>GESTSAI INGENIERIA SL</td>\n",
       "    </tr>\n",
       "    <tr>\n",
       "      <th>5</th>\n",
       "      <td>PH 9100</td>\n",
       "      <td>Modulo SNMP para S.A.I. Phasak con Intelligent...</td>\n",
       "      <td>26-Mar-2018</td>\n",
       "      <td>2.0</td>\n",
       "      <td>127.6400</td>\n",
       "      <td>01/03-N/18-01613</td>\n",
       "      <td>1613.0</td>\n",
       "      <td>1</td>\n",
       "      <td>59299</td>\n",
       "      <td>SHOTIS SERVICIOS TECNOLÓGICOS, S.L.</td>\n",
       "    </tr>\n",
       "    <tr>\n",
       "      <th>6</th>\n",
       "      <td>PH 9100</td>\n",
       "      <td>Modulo SNMP para S.A.I. Phasak con Intelligent...</td>\n",
       "      <td>4-Abr-2018</td>\n",
       "      <td>1.0</td>\n",
       "      <td>112.0000</td>\n",
       "      <td>01/03-N/18-01742</td>\n",
       "      <td>1742.0</td>\n",
       "      <td>1</td>\n",
       "      <td>58291</td>\n",
       "      <td>SPANRED S.L.U.</td>\n",
       "    </tr>\n",
       "    <tr>\n",
       "      <th>7</th>\n",
       "      <td>PH 9100</td>\n",
       "      <td>Modulo SNMP para S.A.I. Phasak con Intelligent...</td>\n",
       "      <td>16-Abr-2018</td>\n",
       "      <td>2.0</td>\n",
       "      <td>127.6400</td>\n",
       "      <td>01/03-N/18-01971</td>\n",
       "      <td>1971.0</td>\n",
       "      <td>1</td>\n",
       "      <td>49617</td>\n",
       "      <td>TELPLAY S.L.</td>\n",
       "    </tr>\n",
       "    <tr>\n",
       "      <th>8</th>\n",
       "      <td>PH 9100</td>\n",
       "      <td>Modulo SNMP para S.A.I. Phasak con Intelligent...</td>\n",
       "      <td>20-Abr-2018</td>\n",
       "      <td>1.0</td>\n",
       "      <td>104.4300</td>\n",
       "      <td>01/04-M/18-00290</td>\n",
       "      <td>290.0</td>\n",
       "      <td>18</td>\n",
       "      <td>48078</td>\n",
       "      <td>GRUPO ELECTRO STOCKS S.L.U</td>\n",
       "    </tr>\n",
       "    <tr>\n",
       "      <th>9</th>\n",
       "      <td>PH 9100</td>\n",
       "      <td>Modulo SNMP para S.A.I. Phasak con Intelligent...</td>\n",
       "      <td>24-May-2018</td>\n",
       "      <td>1.0</td>\n",
       "      <td>104.4300</td>\n",
       "      <td>01/04-M/18-00385</td>\n",
       "      <td>385.0</td>\n",
       "      <td>18</td>\n",
       "      <td>48078</td>\n",
       "      <td>GRUPO ELECTRO STOCKS S.L.U</td>\n",
       "    </tr>\n",
       "  </tbody>\n",
       "</table>\n",
       "</div>"
      ],
      "text/plain": [
       "  referencia                                        descripcion        fecha  \\\n",
       "0    PH 9100  Modulo SNMP para S.A.I. Phasak con Intelligent...  17-Ene-2018   \n",
       "1    PH 9100  Modulo SNMP para S.A.I. Phasak con Intelligent...   5-Mar-2018   \n",
       "2    PH 9100  Modulo SNMP para S.A.I. Phasak con Intelligent...   7-Mar-2018   \n",
       "3    PH 9100  Modulo SNMP para S.A.I. Phasak con Intelligent...  12-Mar-2018   \n",
       "4    PH 9100  Modulo SNMP para S.A.I. Phasak con Intelligent...  19-Mar-2018   \n",
       "5    PH 9100  Modulo SNMP para S.A.I. Phasak con Intelligent...  26-Mar-2018   \n",
       "6    PH 9100  Modulo SNMP para S.A.I. Phasak con Intelligent...   4-Abr-2018   \n",
       "7    PH 9100  Modulo SNMP para S.A.I. Phasak con Intelligent...  16-Abr-2018   \n",
       "8    PH 9100  Modulo SNMP para S.A.I. Phasak con Intelligent...  20-Abr-2018   \n",
       "9    PH 9100  Modulo SNMP para S.A.I. Phasak con Intelligent...  24-May-2018   \n",
       "\n",
       "   salidas    precio            pedido  num_pedido  serie_factura cliente  \\\n",
       "0      1.0  127.6400  01/03-N/18-00296       296.0              1   58291   \n",
       "1      1.0  104.0000  01/03-N/18-01235      1235.0              1   15423   \n",
       "2      1.0  104.4300  01/04-M/18-00166       166.0             18   48078   \n",
       "3      1.0  104.4300  01/04-M/18-00180       180.0             18   28786   \n",
       "4      1.0   86.0000  01/04-N/18-00009         9.0              1   58281   \n",
       "5      2.0  127.6400  01/03-N/18-01613      1613.0              1   59299   \n",
       "6      1.0  112.0000  01/03-N/18-01742      1742.0              1   58291   \n",
       "7      2.0  127.6400  01/03-N/18-01971      1971.0              1   49617   \n",
       "8      1.0  104.4300  01/04-M/18-00290       290.0             18   48078   \n",
       "9      1.0  104.4300  01/04-M/18-00385       385.0             18   48078   \n",
       "\n",
       "                           nombre_cliente  \n",
       "0                          SPANRED S.L.U.  \n",
       "1                  BELSATI SISTEMAS, S.L.  \n",
       "2              GRUPO ELECTRO STOCKS S.L.U  \n",
       "3  COMPONENTES INFORMATICOS ASTURIAS S.L.  \n",
       "4                   GESTSAI INGENIERIA SL  \n",
       "5     SHOTIS SERVICIOS TECNOLÓGICOS, S.L.  \n",
       "6                          SPANRED S.L.U.  \n",
       "7                            TELPLAY S.L.  \n",
       "8              GRUPO ELECTRO STOCKS S.L.U  \n",
       "9              GRUPO ELECTRO STOCKS S.L.U  "
      ]
     },
     "execution_count": 72,
     "metadata": {},
     "output_type": "execute_result"
    }
   ],
   "source": [
    "df.head(10)"
   ]
  },
  {
   "cell_type": "code",
   "execution_count": 86,
   "id": "67df2e05",
   "metadata": {},
   "outputs": [
    {
     "name": "stdout",
     "output_type": "stream",
     "text": [
      "<class 'pandas.core.frame.DataFrame'>\n",
      "Int64Index: 12517 entries, 0 to 12882\n",
      "Data columns (total 10 columns):\n",
      " #   Column          Non-Null Count  Dtype         \n",
      "---  ------          --------------  -----         \n",
      " 0   referencia      12517 non-null  object        \n",
      " 1   descripcion     12517 non-null  object        \n",
      " 2   fecha           12517 non-null  datetime64[ns]\n",
      " 3   salidas         12517 non-null  int64         \n",
      " 4   precio          12517 non-null  float64       \n",
      " 5   pedido          12517 non-null  object        \n",
      " 6   num_pedido      12517 non-null  int64         \n",
      " 7   serie_factura   12517 non-null  int64         \n",
      " 8   cliente         12517 non-null  int64         \n",
      " 9   nombre_cliente  12517 non-null  object        \n",
      "dtypes: datetime64[ns](1), float64(1), int64(4), object(4)\n",
      "memory usage: 1.1+ MB\n"
     ]
    }
   ],
   "source": [
    "df.info()"
   ]
  },
  {
   "cell_type": "code",
   "execution_count": null,
   "id": "faba2822",
   "metadata": {},
   "outputs": [],
   "source": [
    "df.head(20)"
   ]
  },
  {
   "cell_type": "markdown",
   "id": "17285a9a",
   "metadata": {},
   "source": [
    "### Me estaba dando un error con las fechas y es porque el formato 18 - Ene - 2021 esta en espanol y tiene que ser en Ingles 18 - Jan - 2021. Asi que cambiamos los nombres."
   ]
  },
  {
   "cell_type": "code",
   "execution_count": 74,
   "id": "89e1edb9",
   "metadata": {
    "collapsed": true
   },
   "outputs": [
    {
     "name": "stderr",
     "output_type": "stream",
     "text": [
      "/tmp/ipykernel_254799/1563049663.py:1: SettingWithCopyWarning: \n",
      "A value is trying to be set on a copy of a slice from a DataFrame.\n",
      "Try using .loc[row_indexer,col_indexer] = value instead\n",
      "\n",
      "See the caveats in the documentation: https://pandas.pydata.org/pandas-docs/stable/user_guide/indexing.html#returning-a-view-versus-a-copy\n",
      "  df['fecha'] = df['fecha'].str.replace('Ene','Jan')\n"
     ]
    }
   ],
   "source": [
    "df['fecha'] = df['fecha'].str.replace('Ene','Jan')"
   ]
  },
  {
   "cell_type": "code",
   "execution_count": 75,
   "id": "f8bc0b61",
   "metadata": {
    "collapsed": true
   },
   "outputs": [
    {
     "name": "stderr",
     "output_type": "stream",
     "text": [
      "/tmp/ipykernel_254799/3487459887.py:1: SettingWithCopyWarning: \n",
      "A value is trying to be set on a copy of a slice from a DataFrame.\n",
      "Try using .loc[row_indexer,col_indexer] = value instead\n",
      "\n",
      "See the caveats in the documentation: https://pandas.pydata.org/pandas-docs/stable/user_guide/indexing.html#returning-a-view-versus-a-copy\n",
      "  df['fecha'] = df['fecha'].str.replace('Abr','Apr')\n"
     ]
    }
   ],
   "source": [
    "df['fecha'] = df['fecha'].str.replace('Abr','Apr')"
   ]
  },
  {
   "cell_type": "code",
   "execution_count": 76,
   "id": "f284de5e",
   "metadata": {
    "collapsed": true
   },
   "outputs": [
    {
     "name": "stderr",
     "output_type": "stream",
     "text": [
      "/tmp/ipykernel_254799/2159912137.py:1: SettingWithCopyWarning: \n",
      "A value is trying to be set on a copy of a slice from a DataFrame.\n",
      "Try using .loc[row_indexer,col_indexer] = value instead\n",
      "\n",
      "See the caveats in the documentation: https://pandas.pydata.org/pandas-docs/stable/user_guide/indexing.html#returning-a-view-versus-a-copy\n",
      "  df['fecha'] = df['fecha'].str.replace('Ago','Aug')\n"
     ]
    }
   ],
   "source": [
    "df['fecha'] = df['fecha'].str.replace('Ago','Aug')"
   ]
  },
  {
   "cell_type": "code",
   "execution_count": 77,
   "id": "c165b0ba",
   "metadata": {
    "collapsed": true
   },
   "outputs": [
    {
     "name": "stderr",
     "output_type": "stream",
     "text": [
      "/tmp/ipykernel_254799/1678617602.py:1: SettingWithCopyWarning: \n",
      "A value is trying to be set on a copy of a slice from a DataFrame.\n",
      "Try using .loc[row_indexer,col_indexer] = value instead\n",
      "\n",
      "See the caveats in the documentation: https://pandas.pydata.org/pandas-docs/stable/user_guide/indexing.html#returning-a-view-versus-a-copy\n",
      "  df['fecha'] = df['fecha'].str.replace('Dic','Dec')\n"
     ]
    }
   ],
   "source": [
    "df['fecha'] = df['fecha'].str.replace('Dic','Dec')"
   ]
  },
  {
   "cell_type": "code",
   "execution_count": 78,
   "id": "a871c12b",
   "metadata": {
    "collapsed": true
   },
   "outputs": [
    {
     "name": "stderr",
     "output_type": "stream",
     "text": [
      "/tmp/ipykernel_254799/2264925295.py:2: SettingWithCopyWarning: \n",
      "A value is trying to be set on a copy of a slice from a DataFrame.\n",
      "Try using .loc[row_indexer,col_indexer] = value instead\n",
      "\n",
      "See the caveats in the documentation: https://pandas.pydata.org/pandas-docs/stable/user_guide/indexing.html#returning-a-view-versus-a-copy\n",
      "  df['fecha'] = pd.to_datetime(df['fecha'], format='%d-%b-%Y')\n"
     ]
    }
   ],
   "source": [
    "# Aqui aplicamos el formato fecha a la columna fecha y ahora si lo coge\n",
    "df['fecha'] = pd.to_datetime(df['fecha'], format='%d-%b-%Y')"
   ]
  },
  {
   "cell_type": "code",
   "execution_count": 87,
   "id": "6995b714",
   "metadata": {},
   "outputs": [
    {
     "name": "stdout",
     "output_type": "stream",
     "text": [
      "<class 'pandas.core.frame.DataFrame'>\n",
      "Int64Index: 12517 entries, 0 to 12882\n",
      "Data columns (total 10 columns):\n",
      " #   Column          Non-Null Count  Dtype         \n",
      "---  ------          --------------  -----         \n",
      " 0   referencia      12517 non-null  object        \n",
      " 1   descripcion     12517 non-null  object        \n",
      " 2   fecha           12517 non-null  datetime64[ns]\n",
      " 3   salidas         12517 non-null  int64         \n",
      " 4   precio          12517 non-null  float64       \n",
      " 5   pedido          12517 non-null  object        \n",
      " 6   num_pedido      12517 non-null  int64         \n",
      " 7   serie_factura   12517 non-null  int64         \n",
      " 8   cliente         12517 non-null  int64         \n",
      " 9   nombre_cliente  12517 non-null  object        \n",
      "dtypes: datetime64[ns](1), float64(1), int64(4), object(4)\n",
      "memory usage: 1.1+ MB\n"
     ]
    }
   ],
   "source": [
    "df.info()"
   ]
  },
  {
   "cell_type": "code",
   "execution_count": null,
   "id": "88d36e8f",
   "metadata": {},
   "outputs": [],
   "source": [
    "df.head(10)"
   ]
  },
  {
   "cell_type": "markdown",
   "id": "188ce029",
   "metadata": {},
   "source": [
    "Crear una nueva columna que contenga la fecha de fin del período de previsión, que será la fecha actual más 6 meses"
   ]
  },
  {
   "cell_type": "code",
   "execution_count": 88,
   "id": "12d1e2f6",
   "metadata": {},
   "outputs": [],
   "source": [
    "# Agrupar los datos por referencia y calcular el total de ventas por referencia\n",
    "ventas_referencia = df.groupby('referencia')['salidas'].sum()"
   ]
  },
  {
   "cell_type": "code",
   "execution_count": 92,
   "id": "38a05588",
   "metadata": {},
   "outputs": [
    {
     "data": {
      "text/plain": [
       "referencia\n",
       "PH 7210        1020\n",
       "PH 7266        6070\n",
       "PH 7288        3494\n",
       "PH 7312        1475\n",
       "PH 7312-RA+       1\n",
       "Name: salidas, dtype: int64"
      ]
     },
     "execution_count": 92,
     "metadata": {},
     "output_type": "execute_result"
    }
   ],
   "source": [
    "ventas_referencia.head()"
   ]
  },
  {
   "cell_type": "code",
   "execution_count": 94,
   "id": "8d604000",
   "metadata": {},
   "outputs": [],
   "source": [
    "# Calcular la media móvil de las ventas por referencia en los últimos 4 años\n",
    "ventas_referencia_movil = ventas_referencia.rolling(4).mean()"
   ]
  },
  {
   "cell_type": "code",
   "execution_count": 95,
   "id": "17bed398",
   "metadata": {},
   "outputs": [
    {
     "data": {
      "text/plain": [
       "referencia\n",
       "PH 7210            NaN\n",
       "PH 7266            NaN\n",
       "PH 7288            NaN\n",
       "PH 7312        3014.75\n",
       "PH 7312-RA+    2760.00\n",
       "Name: salidas, dtype: float64"
      ]
     },
     "execution_count": 95,
     "metadata": {},
     "output_type": "execute_result"
    }
   ],
   "source": [
    "ventas_referencia_movil.head()"
   ]
  },
  {
   "cell_type": "code",
   "execution_count": null,
   "id": "5196dfa1",
   "metadata": {},
   "outputs": [],
   "source": [
    "# Calcular la previsión de ventas para los próximos 6 meses\n",
    "prevision_ventas = pd.concat([ventas_referencia_movil, pd.Series([ventas_referencia_movil[-1]] * 6, index=range(len(ventas_referencia_movil), len(ventas_referencia_movil)+6))])\n"
   ]
  },
  {
   "cell_type": "code",
   "execution_count": null,
   "id": "b45b8e17",
   "metadata": {},
   "outputs": [],
   "source": [
    "# Visualizar la previsión de ventas\n",
    "plt.plot(range(len(prevision_ventas)), prevision_ventas)\n",
    "plt.xlabel('Mes')\n",
    "plt.ylabel('Ventas')\n",
    "plt.show()\n",
    "\n"
   ]
  },
  {
   "cell_type": "code",
   "execution_count": null,
   "id": "20f8633f",
   "metadata": {},
   "outputs": [],
   "source": [
    "# Crear una columna con el mes de cada venta\n",
    "df['mes'] = pd.to_datetime(df['fecha']).dt.month\n"
   ]
  },
  {
   "cell_type": "code",
   "execution_count": null,
   "id": "f7708af2",
   "metadata": {},
   "outputs": [],
   "source": [
    "# Crear una columna con el mes de cada venta\n",
    "df.loc[:, 'mes'] = pd.to_datetime(df['fecha']).dt.month\n"
   ]
  },
  {
   "cell_type": "code",
   "execution_count": null,
   "id": "85533b95",
   "metadata": {},
   "outputs": [],
   "source": [
    "# Agrupar los datos por mes y referencia y calcular el total de ventas por mes y referencia\n",
    "ventas_mes_referencia = df.groupby(['mes', 'referencia'])['salidas'].sum()\n"
   ]
  },
  {
   "cell_type": "code",
   "execution_count": null,
   "id": "298868ac",
   "metadata": {},
   "outputs": [],
   "source": [
    "ventas_mes_referencia"
   ]
  },
  {
   "cell_type": "code",
   "execution_count": null,
   "id": "1a1c249b",
   "metadata": {},
   "outputs": [],
   "source": [
    "# Calcular la media móvil de las ventas por mes y referencia en los últimos 4 años\n",
    "ventas_mes_referencia_movil = ventas_mes_referencia.rolling(window=4).mean()\n"
   ]
  },
  {
   "cell_type": "code",
   "execution_count": null,
   "id": "8d8c7ae9",
   "metadata": {},
   "outputs": [],
   "source": [
    "# Agrupar la media móvil de las ventas por referencia y seleccionar el último valor de la serie de ventas para cada referencia\n",
    "ventas_referencia_movil = ventas_mes_referencia_movil.groupby('referencia').tail(1)"
   ]
  },
  {
   "cell_type": "code",
   "execution_count": null,
   "id": "0364b42a",
   "metadata": {},
   "outputs": [],
   "source": [
    "# Para cada referencia, calcular la previsión de ventas para los próximos 6 meses\n",
    "prevision_ventas = pd.concat([ventas_referencia_movil] * 6, ignore_index=True)"
   ]
  },
  {
   "cell_type": "code",
   "execution_count": null,
   "id": "7b4ed33b",
   "metadata": {},
   "outputs": [],
   "source": [
    "# Importar matplotlib\n",
    "import matplotlib.pyplot as plt\n",
    "\n",
    "# Visualizar la previsión de ventas\n",
    "plt.plot(prevision_ventas)\n",
    "plt.xlabel('Mes')\n",
    "plt.ylabel('Ventas')\n"
   ]
  },
  {
   "cell_type": "code",
   "execution_count": null,
   "id": "fe065d5b",
   "metadata": {},
   "outputs": [],
   "source": [
    "prevision_ventas"
   ]
  },
  {
   "cell_type": "code",
   "execution_count": null,
   "id": "9ea45aff",
   "metadata": {},
   "outputs": [],
   "source": [
    "ventas_referencia_movil"
   ]
  },
  {
   "cell_type": "code",
   "execution_count": null,
   "id": "c4abd578",
   "metadata": {},
   "outputs": [],
   "source": [
    "# Exportar el DataFrame limpio a un fichero csv con separacion de comas\n",
    "df.to_csv('/home/ubuntu/projects/codigofacilito/sais_definitivo.csv', sep=';')"
   ]
  },
  {
   "cell_type": "code",
   "execution_count": 97,
   "id": "b1a8c2e4",
   "metadata": {},
   "outputs": [
    {
     "name": "stdout",
     "output_type": "stream",
     "text": [
      "The Original Data frame is: \n",
      "\n",
      "   Attendance  Obtained Marks\n",
      "0          60              90\n",
      "1         100              75\n",
      "2          80              82\n",
      "3          78              64\n",
      "4          95              45\n",
      "The Rolling Window After Calculation is: \n",
      "\n",
      "   Attendance  Obtained Marks\n",
      "0         NaN             NaN\n",
      "1         NaN             NaN\n",
      "2       240.0           247.0\n",
      "3       258.0           221.0\n",
      "4       253.0           191.0\n"
     ]
    }
   ],
   "source": [
    "import pandas as pd\n",
    "\n",
    "dataframe=pd.DataFrame({'Attendance': {0: 60, 1: 100, 2: 80,3: 78,4: 95},\n",
    "                        'Obtained Marks': {0: 90, 1: 75, 2: 82, 3: 64, 4: 45}})\n",
    "print(\"The Original Data frame is: \\n\")\n",
    "print(dataframe)\n",
    "\n",
    "dataframe1 = dataframe.rolling(3).sum()\n",
    "print(\"The Rolling Window After Calculation is: \\n\")\n",
    "print(dataframe1)\n"
   ]
  },
  {
   "cell_type": "code",
   "execution_count": 100,
   "id": "f1024b7d",
   "metadata": {},
   "outputs": [
    {
     "data": {
      "text/html": [
       "<div>\n",
       "<style scoped>\n",
       "    .dataframe tbody tr th:only-of-type {\n",
       "        vertical-align: middle;\n",
       "    }\n",
       "\n",
       "    .dataframe tbody tr th {\n",
       "        vertical-align: top;\n",
       "    }\n",
       "\n",
       "    .dataframe thead th {\n",
       "        text-align: right;\n",
       "    }\n",
       "</style>\n",
       "<table border=\"1\" class=\"dataframe\">\n",
       "  <thead>\n",
       "    <tr style=\"text-align: right;\">\n",
       "      <th></th>\n",
       "      <th>period</th>\n",
       "      <th>leads</th>\n",
       "      <th>sales</th>\n",
       "    </tr>\n",
       "  </thead>\n",
       "  <tbody>\n",
       "    <tr>\n",
       "      <th>0</th>\n",
       "      <td>1</td>\n",
       "      <td>11.427457</td>\n",
       "      <td>61.417425</td>\n",
       "    </tr>\n",
       "    <tr>\n",
       "      <th>1</th>\n",
       "      <td>2</td>\n",
       "      <td>14.588598</td>\n",
       "      <td>64.900826</td>\n",
       "    </tr>\n",
       "    <tr>\n",
       "      <th>2</th>\n",
       "      <td>3</td>\n",
       "      <td>12.452504</td>\n",
       "      <td>66.698494</td>\n",
       "    </tr>\n",
       "    <tr>\n",
       "      <th>3</th>\n",
       "      <td>4</td>\n",
       "      <td>11.352780</td>\n",
       "      <td>64.927513</td>\n",
       "    </tr>\n",
       "    <tr>\n",
       "      <th>4</th>\n",
       "      <td>5</td>\n",
       "      <td>9.049441</td>\n",
       "      <td>73.720630</td>\n",
       "    </tr>\n",
       "    <tr>\n",
       "      <th>5</th>\n",
       "      <td>6</td>\n",
       "      <td>13.271988</td>\n",
       "      <td>77.687668</td>\n",
       "    </tr>\n",
       "    <tr>\n",
       "      <th>6</th>\n",
       "      <td>7</td>\n",
       "      <td>9.314157</td>\n",
       "      <td>78.125728</td>\n",
       "    </tr>\n",
       "    <tr>\n",
       "      <th>7</th>\n",
       "      <td>8</td>\n",
       "      <td>17.943687</td>\n",
       "      <td>75.280301</td>\n",
       "    </tr>\n",
       "    <tr>\n",
       "      <th>8</th>\n",
       "      <td>9</td>\n",
       "      <td>19.309592</td>\n",
       "      <td>73.181613</td>\n",
       "    </tr>\n",
       "    <tr>\n",
       "      <th>9</th>\n",
       "      <td>10</td>\n",
       "      <td>8.285389</td>\n",
       "      <td>85.272259</td>\n",
       "    </tr>\n",
       "  </tbody>\n",
       "</table>\n",
       "</div>"
      ],
      "text/plain": [
       "   period      leads      sales\n",
       "0       1  11.427457  61.417425\n",
       "1       2  14.588598  64.900826\n",
       "2       3  12.452504  66.698494\n",
       "3       4  11.352780  64.927513\n",
       "4       5   9.049441  73.720630\n",
       "5       6  13.271988  77.687668\n",
       "6       7   9.314157  78.125728\n",
       "7       8  17.943687  75.280301\n",
       "8       9  19.309592  73.181613\n",
       "9      10   8.285389  85.272259"
      ]
     },
     "execution_count": 100,
     "metadata": {},
     "output_type": "execute_result"
    }
   ],
   "source": [
    "import numpy as np\n",
    "import pandas as pd\n",
    "\n",
    "#make this example reproducible\n",
    "np.random.seed(0)\n",
    "\n",
    "#create dataset\n",
    "period = np.arange(1, 101, 1)\n",
    "leads = np.random.uniform(1, 20, 100)\n",
    "sales = 60 + 2*period + np.random.normal(loc=0, scale=.5*period, size=100)\n",
    "df = pd.DataFrame({'period': period, 'leads': leads, 'sales': sales})\n",
    "\n",
    "#view first 10 rows\n",
    "df.head(10)"
   ]
  }
 ],
 "metadata": {
  "kernelspec": {
   "display_name": "Python 3 (ipykernel)",
   "language": "python",
   "name": "python3"
  },
  "language_info": {
   "codemirror_mode": {
    "name": "ipython",
    "version": 3
   },
   "file_extension": ".py",
   "mimetype": "text/x-python",
   "name": "python",
   "nbconvert_exporter": "python",
   "pygments_lexer": "ipython3",
   "version": "3.9.15"
  }
 },
 "nbformat": 4,
 "nbformat_minor": 5
}
