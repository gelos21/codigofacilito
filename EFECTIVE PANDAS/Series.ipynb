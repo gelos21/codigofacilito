{
 "cells": [
  {
   "cell_type": "code",
   "execution_count": 1,
   "id": "d3e39f4d",
   "metadata": {},
   "outputs": [],
   "source": [
    "import pandas as pd\n",
    "url = 'https://github.com/gelos21/datasets/raw/master/data/vehicles.csv.zip'\n",
    "df = pd.read_csv(url, low_memory=False)\n",
    "city_mpg = df.city08\n",
    "highhway_mpg = df.highway08"
   ]
  },
  {
   "cell_type": "code",
   "execution_count": 8,
   "id": "51956ad6",
   "metadata": {},
   "outputs": [
    {
     "data": {
      "text/plain": [
       "0        19\n",
       "1         9\n",
       "2        23\n",
       "3        10\n",
       "4        17\n",
       "         ..\n",
       "41139    19\n",
       "41140    20\n",
       "41141    18\n",
       "41142    18\n",
       "41143    16\n",
       "Name: city08, Length: 41144, dtype: int64"
      ]
     },
     "execution_count": 8,
     "metadata": {},
     "output_type": "execute_result"
    }
   ],
   "source": [
    "city_mpg"
   ]
  },
  {
   "cell_type": "code",
   "execution_count": 9,
   "id": "6f27b5d1",
   "metadata": {},
   "outputs": [
    {
     "data": {
      "text/plain": [
       "0        25\n",
       "1        14\n",
       "2        33\n",
       "3        12\n",
       "4        23\n",
       "         ..\n",
       "41139    26\n",
       "41140    28\n",
       "41141    24\n",
       "41142    24\n",
       "41143    21\n",
       "Name: highway08, Length: 41144, dtype: int64"
      ]
     },
     "execution_count": 9,
     "metadata": {},
     "output_type": "execute_result"
    }
   ],
   "source": [
    "highhway_mpg"
   ]
  },
  {
   "cell_type": "code",
   "execution_count": 10,
   "id": "6469facb",
   "metadata": {},
   "outputs": [
    {
     "data": {
      "text/plain": [
       "420"
      ]
     },
     "execution_count": 10,
     "metadata": {},
     "output_type": "execute_result"
    }
   ],
   "source": [
    "len(dir(city_mpg))"
   ]
  },
  {
   "cell_type": "code",
   "execution_count": null,
   "id": "5c20cf15",
   "metadata": {},
   "outputs": [
    {
     "data": {
      "text/plain": [
       "0        22.0\n",
       "1        11.5\n",
       "2        28.0\n",
       "3        11.0\n",
       "4        20.0\n",
       "         ... \n",
       "41139    22.5\n",
       "41140    24.0\n",
       "41141    21.0\n",
       "41142    21.0\n",
       "41143    18.5\n",
       "Length: 41144, dtype: float64"
      ]
     },
     "execution_count": 4,
     "metadata": {},
     "output_type": "execute_result"
    }
   ],
   "source": [
    "(city_mpg + highhway_mpg)/ 2"
   ]
  },
  {
   "cell_type": "code",
   "execution_count": null,
   "id": "2f4201d8",
   "metadata": {},
   "outputs": [
    {
     "data": {
      "text/plain": [
       "0        22.0\n",
       "1        11.5\n",
       "2        28.0\n",
       "3        11.0\n",
       "4        20.0\n",
       "         ... \n",
       "41139    22.5\n",
       "41140    24.0\n",
       "41141    21.0\n",
       "41142    21.0\n",
       "41143    18.5\n",
       "Length: 41144, dtype: float64"
      ]
     },
     "execution_count": 3,
     "metadata": {},
     "output_type": "execute_result"
    }
   ],
   "source": [
    "(city_mpg + highhway_mpg)/ 2"
   ]
  },
  {
   "cell_type": "code",
   "execution_count": 11,
   "id": "e0e38328",
   "metadata": {},
   "outputs": [],
   "source": [
    "s1 = pd.Series([10, 20, 30], index=[1, 2, 2])\n",
    "s2 = pd.Series([35, 44, 53], index=[2, 2, 4], name='s2')"
   ]
  },
  {
   "cell_type": "code",
   "execution_count": null,
   "id": "3b72832c",
   "metadata": {},
   "outputs": [
    {
     "data": {
      "text/plain": [
       "1    10\n",
       "2    20\n",
       "2    30\n",
       "dtype: int64"
      ]
     },
     "execution_count": 6,
     "metadata": {},
     "output_type": "execute_result"
    }
   ],
   "source": [
    "s1"
   ]
  },
  {
   "cell_type": "code",
   "execution_count": null,
   "id": "52d1da91",
   "metadata": {},
   "outputs": [
    {
     "data": {
      "text/plain": [
       "2    35\n",
       "2    44\n",
       "4    53\n",
       "Name: s2, dtype: int64"
      ]
     },
     "execution_count": 7,
     "metadata": {},
     "output_type": "execute_result"
    }
   ],
   "source": [
    "s2"
   ]
  },
  {
   "cell_type": "code",
   "execution_count": null,
   "id": "2fc4476a",
   "metadata": {},
   "outputs": [
    {
     "data": {
      "text/plain": [
       "1     NaN\n",
       "2    55.0\n",
       "2    65.0\n",
       "2    64.0\n",
       "2    74.0\n",
       "4     NaN\n",
       "dtype: float64"
      ]
     },
     "execution_count": 8,
     "metadata": {},
     "output_type": "execute_result"
    }
   ],
   "source": [
    "s2 + s1"
   ]
  },
  {
   "cell_type": "code",
   "execution_count": null,
   "id": "d4882f65",
   "metadata": {},
   "outputs": [
    {
     "data": {
      "text/plain": [
       "1     NaN\n",
       "2    55.0\n",
       "2    64.0\n",
       "2    65.0\n",
       "2    74.0\n",
       "4     NaN\n",
       "dtype: float64"
      ]
     },
     "execution_count": 9,
     "metadata": {},
     "output_type": "execute_result"
    }
   ],
   "source": [
    "s1.add(s2)"
   ]
  },
  {
   "cell_type": "code",
   "execution_count": null,
   "id": "0f4eff19",
   "metadata": {},
   "outputs": [
    {
     "data": {
      "text/plain": [
       "1    10.0\n",
       "2    55.0\n",
       "2    64.0\n",
       "2    65.0\n",
       "2    74.0\n",
       "4    53.0\n",
       "dtype: float64"
      ]
     },
     "execution_count": 10,
     "metadata": {},
     "output_type": "execute_result"
    }
   ],
   "source": [
    "s1.add(s2, fill_value=0)"
   ]
  },
  {
   "cell_type": "code",
   "execution_count": null,
   "id": "a1aa0170",
   "metadata": {},
   "outputs": [
    {
     "data": {
      "text/plain": [
       "0        31.5\n",
       "1        16.0\n",
       "2        39.5\n",
       "3        16.0\n",
       "4        28.5\n",
       "         ... \n",
       "41139    32.0\n",
       "41140    34.0\n",
       "41141    30.0\n",
       "41142    30.0\n",
       "41143    26.5\n",
       "Length: 41144, dtype: float64"
      ]
     },
     "execution_count": 12,
     "metadata": {},
     "output_type": "execute_result"
    }
   ],
   "source": [
    "(city_mpg.add(highhway_mpg.div(2)))"
   ]
  },
  {
   "cell_type": "code",
   "execution_count": null,
   "id": "4e38fb86",
   "metadata": {},
   "outputs": [
    {
     "data": {
      "text/plain": [
       "17.0"
      ]
     },
     "execution_count": 13,
     "metadata": {},
     "output_type": "execute_result"
    }
   ],
   "source": [
    "city_mpg.quantile()"
   ]
  },
  {
   "cell_type": "code",
   "execution_count": null,
   "id": "d616cdb0",
   "metadata": {},
   "outputs": [
    {
     "data": {
      "text/plain": [
       "24.0"
      ]
     },
     "execution_count": 14,
     "metadata": {},
     "output_type": "execute_result"
    }
   ],
   "source": [
    "city_mpg.quantile(.9)"
   ]
  },
  {
   "cell_type": "code",
   "execution_count": null,
   "id": "6f92c9ce",
   "metadata": {},
   "outputs": [
    {
     "data": {
      "text/plain": [
       "0.1    13.0\n",
       "0.5    17.0\n",
       "0.9    24.0\n",
       "Name: city08, dtype: float64"
      ]
     },
     "execution_count": 15,
     "metadata": {},
     "output_type": "execute_result"
    }
   ],
   "source": [
    "city_mpg.quantile([.1, .5, .9])"
   ]
  },
  {
   "cell_type": "code",
   "execution_count": null,
   "id": "ef40cead",
   "metadata": {},
   "outputs": [
    {
     "data": {
      "text/plain": [
       "10272"
      ]
     },
     "execution_count": 19,
     "metadata": {},
     "output_type": "execute_result"
    }
   ],
   "source": [
    "city_mpg.gt(20).sum() # con estos dos metodos conseguimos filtrar los coche con km sumperior a 20 y luego sumarlos."
   ]
  },
  {
   "cell_type": "code",
   "execution_count": null,
   "id": "1c1fa021",
   "metadata": {},
   "outputs": [
    {
     "data": {
      "text/plain": [
       "329152"
      ]
     },
     "execution_count": 20,
     "metadata": {},
     "output_type": "execute_result"
    }
   ],
   "source": [
    "city_mpg.nbytes"
   ]
  },
  {
   "cell_type": "code",
   "execution_count": 5,
   "id": "fcd52cba",
   "metadata": {},
   "outputs": [
    {
     "data": {
      "text/plain": [
       "0        Alfa Romeo\n",
       "1           Ferrari\n",
       "2             Dodge\n",
       "3             Dodge\n",
       "4            Subaru\n",
       "            ...    \n",
       "41139        Subaru\n",
       "41140        Subaru\n",
       "41141        Subaru\n",
       "41142        Subaru\n",
       "41143        Subaru\n",
       "Name: make, Length: 41144, dtype: object"
      ]
     },
     "execution_count": 5,
     "metadata": {},
     "output_type": "execute_result"
    }
   ],
   "source": [
    "make = df.make\n",
    "make"
   ]
  },
  {
   "cell_type": "code",
   "execution_count": 6,
   "id": "4db1cf48",
   "metadata": {},
   "outputs": [
    {
     "data": {
      "text/plain": [
       "Chevrolet                      4003\n",
       "Ford                           3371\n",
       "Dodge                          2583\n",
       "GMC                            2494\n",
       "Toyota                         2071\n",
       "                               ... \n",
       "Volga Associated Automobile       1\n",
       "Panos                             1\n",
       "Mahindra                          1\n",
       "Excalibur Autos                   1\n",
       "London Coach Co Inc               1\n",
       "Name: make, Length: 136, dtype: int64"
      ]
     },
     "execution_count": 6,
     "metadata": {},
     "output_type": "execute_result"
    }
   ],
   "source": [
    "make.value_counts()"
   ]
  },
  {
   "cell_type": "code",
   "execution_count": 8,
   "id": "c5f8c54c",
   "metadata": {},
   "outputs": [
    {
     "data": {
      "text/plain": [
       "0        Other\n",
       "1        Other\n",
       "2        Dodge\n",
       "3        Dodge\n",
       "4        Other\n",
       "         ...  \n",
       "41139    Other\n",
       "41140    Other\n",
       "41141    Other\n",
       "41142    Other\n",
       "41143    Other\n",
       "Name: make, Length: 41144, dtype: object"
      ]
     },
     "execution_count": 8,
     "metadata": {},
     "output_type": "execute_result"
    }
   ],
   "source": [
    "top5 = make.value_counts().index[:5]\n",
    "make.where(make.isin(top5), other='Other')"
   ]
  },
  {
   "cell_type": "code",
   "execution_count": 9,
   "id": "8bba6b40",
   "metadata": {},
   "outputs": [
    {
     "data": {
      "text/plain": [
       "0        Other\n",
       "1        Other\n",
       "2        Dodge\n",
       "3        Dodge\n",
       "4        Other\n",
       "         ...  \n",
       "41139    Other\n",
       "41140    Other\n",
       "41141    Other\n",
       "41142    Other\n",
       "41143    Other\n",
       "Name: make, Length: 41144, dtype: object"
      ]
     },
     "execution_count": 9,
     "metadata": {},
     "output_type": "execute_result"
    }
   ],
   "source": [
    "# Metodo de if Else con Pandas usando .apply\n",
    "vc = make.value_counts()\n",
    "top5 = vc.index[:5]\n",
    "top10 = vc.index[:10]\n",
    "def generalize(val):\n",
    "    if val in top5:\n",
    "        return val\n",
    "    elif val in top10:\n",
    "        return 'Top10'\n",
    "    else:\n",
    "        return 'Other'\n",
    "\n",
    "make.apply(generalize)"
   ]
  },
  {
   "cell_type": "code",
   "execution_count": 10,
   "id": "9076d002",
   "metadata": {},
   "outputs": [
    {
     "data": {
      "text/plain": [
       "0        Other\n",
       "1        Other\n",
       "2        Dodge\n",
       "3        Dodge\n",
       "4        Other\n",
       "         ...  \n",
       "41139    Other\n",
       "41140    Other\n",
       "41141    Other\n",
       "41142    Other\n",
       "41143    Other\n",
       "Name: make, Length: 41144, dtype: object"
      ]
     },
     "execution_count": 10,
     "metadata": {},
     "output_type": "execute_result"
    }
   ],
   "source": [
    "# Metodo de if Else con Pandas usando .where haciendo llamadas encadenadas\n",
    "vc = make.value_counts()\n",
    "top5 = vc.index[:5]\n",
    "top10 = vc.index[:10]\n",
    "make.where(make.isin(top5), 'top10').where(make.isin(top10), 'Other')"
   ]
  },
  {
   "cell_type": "code",
   "execution_count": 11,
   "id": "bf2dac51",
   "metadata": {},
   "outputs": [
    {
     "data": {
      "text/plain": [
       "array(['Other', 'Other', 'Dodge', ..., 'Other', 'Other', 'Other'],\n",
       "      dtype=object)"
      ]
     },
     "execution_count": 11,
     "metadata": {},
     "output_type": "execute_result"
    }
   ],
   "source": [
    "import numpy as np\n",
    "np.select([make.isin(top5), make.isin(top10)], [make, 'top10'], 'Other')"
   ]
  },
  {
   "cell_type": "code",
   "execution_count": 12,
   "id": "80f48992",
   "metadata": {},
   "outputs": [
    {
     "data": {
      "text/plain": [
       "0        Other\n",
       "1        Other\n",
       "2        Dodge\n",
       "3        Dodge\n",
       "4        Other\n",
       "         ...  \n",
       "41139    Other\n",
       "41140    Other\n",
       "41141    Other\n",
       "41142    Other\n",
       "41143    Other\n",
       "Length: 41144, dtype: object"
      ]
     },
     "execution_count": 12,
     "metadata": {},
     "output_type": "execute_result"
    }
   ],
   "source": [
    "import numpy as np\n",
    "pd.Series(np.select([make.isin(top5), make.isin(top10)], [make, 'top10'], 'Other'), index=make.index)"
   ]
  },
  {
   "cell_type": "code",
   "execution_count": 13,
   "id": "b26e0da7",
   "metadata": {},
   "outputs": [
    {
     "data": {
      "text/plain": [
       "206"
      ]
     },
     "execution_count": 13,
     "metadata": {},
     "output_type": "execute_result"
    }
   ],
   "source": [
    "# Missing Data. Esto encontrara todos los valores con valor nulo y los sumara.\n",
    "cyl = df.cylinders\n",
    "cyl.isna().sum()"
   ]
  },
  {
   "cell_type": "code",
   "execution_count": 14,
   "id": "1f43bf89",
   "metadata": {},
   "outputs": [
    {
     "data": {
      "text/plain": [
       "7138     Nissan\n",
       "7139     Toyota\n",
       "8143     Toyota\n",
       "8144       Ford\n",
       "8146       Ford\n",
       "          ...  \n",
       "34563     Tesla\n",
       "34564     Tesla\n",
       "34565     Tesla\n",
       "34566     Tesla\n",
       "34567     Tesla\n",
       "Name: make, Length: 206, dtype: object"
      ]
     },
     "execution_count": 14,
     "metadata": {},
     "output_type": "execute_result"
    }
   ],
   "source": [
    "mising = cyl.isna() # aqui guara en una variable todos los indices que no tienen dato\n",
    "make.loc[mising] # Aqui mostramos el valor de esos indices. Los localizamos con loc al ser de tipo string."
   ]
  },
  {
   "cell_type": "code",
   "execution_count": 24,
   "id": "86921ad5",
   "metadata": {},
   "outputs": [
    {
     "data": {
      "text/plain": [
       "7138    NaN\n",
       "7139    NaN\n",
       "8143    NaN\n",
       "8144    NaN\n",
       "8146    NaN\n",
       "         ..\n",
       "34563   NaN\n",
       "34564   NaN\n",
       "34565   NaN\n",
       "34566   NaN\n",
       "34567   NaN\n",
       "Name: cylinders, Length: 206, dtype: float64"
      ]
     },
     "execution_count": 24,
     "metadata": {},
     "output_type": "execute_result"
    }
   ],
   "source": [
    "# Filing In Missing Data\n",
    "cyl[cyl.isna()] #cyl.isna() devuelve todos con true o false y al pasarlo como indice devuelve los Nan."
   ]
  },
  {
   "cell_type": "code",
   "execution_count": 27,
   "id": "adfdf2b8",
   "metadata": {},
   "outputs": [
    {
     "data": {
      "text/plain": [
       "7136    6.0\n",
       "7137    6.0\n",
       "7138    0.0\n",
       "7139    0.0\n",
       "7140    6.0\n",
       "7141    6.0\n",
       "Name: cylinders, dtype: float64"
      ]
     },
     "execution_count": 27,
     "metadata": {},
     "output_type": "execute_result"
    }
   ],
   "source": [
    "cyl.fillna(0).loc[7136:7141] #Rellena los nan con cero. Se muestran estos para ir al grano."
   ]
  },
  {
   "cell_type": "code",
   "execution_count": 30,
   "id": "5c89fc00",
   "metadata": {},
   "outputs": [
    {
     "data": {
      "text/plain": [
       "0        (5.856, 20.4]\n",
       "1        (5.856, 20.4]\n",
       "2         (20.4, 34.8]\n",
       "3        (5.856, 20.4]\n",
       "4        (5.856, 20.4]\n",
       "             ...      \n",
       "41139    (5.856, 20.4]\n",
       "41140    (5.856, 20.4]\n",
       "41141    (5.856, 20.4]\n",
       "41142    (5.856, 20.4]\n",
       "41143    (5.856, 20.4]\n",
       "Name: city08, Length: 41144, dtype: category\n",
       "Categories (10, interval[float64, right]): [(5.856, 20.4] < (20.4, 34.8] < (34.8, 49.2] < (49.2, 63.6] ... (92.4, 106.8] < (106.8, 121.2] < (121.2, 135.6] < (135.6, 150.0]]"
      ]
     },
     "execution_count": 30,
     "metadata": {},
     "output_type": "execute_result"
    }
   ],
   "source": [
    "pd.cut (city_mpg, 10) # Hace 10 grupos de igual ancho"
   ]
  },
  {
   "cell_type": "code",
   "execution_count": 31,
   "id": "471e14ef",
   "metadata": {},
   "outputs": [
    {
     "data": {
      "text/plain": [
       "0        (10, 20]\n",
       "1         (0, 10]\n",
       "2        (20, 40]\n",
       "3         (0, 10]\n",
       "4        (10, 20]\n",
       "           ...   \n",
       "41139    (10, 20]\n",
       "41140    (10, 20]\n",
       "41141    (10, 20]\n",
       "41142    (10, 20]\n",
       "41143    (10, 20]\n",
       "Name: city08, Length: 41144, dtype: category\n",
       "Categories (5, interval[int64, right]): [(0, 10] < (10, 20] < (20, 40] < (40, 70] < (70, 150]]"
      ]
     },
     "execution_count": 31,
     "metadata": {},
     "output_type": "execute_result"
    }
   ],
   "source": [
    "pd.cut(city_mpg, [0, 10, 20, 40, 70, 150])# Aqui se especifica el tamaño de cada grupo. Aqui se hacen 5 categorías."
   ]
  },
  {
   "cell_type": "code",
   "execution_count": 58,
   "id": "51ae3242",
   "metadata": {},
   "outputs": [
    {
     "name": "stdout",
     "output_type": "stream",
     "text": [
      "2.5054595470428467\n"
     ]
    }
   ],
   "source": [
    "# EJERCICIO 1 PAGINA 80\n",
    "\"\"\"\n",
    "Create a series from a numeric column that has the value or 'high' if it is equal to or above the mean and 'low' \n",
    "if it is below the mean using .apply\n",
    "\"\"\"\n",
    "import time\n",
    "inicio = time.time()\n",
    "#serie = pd.Series([10, 20, 30, 40, 50, 60, 70, 80, 90, 100]) \n",
    "\n",
    "def mayor_media(val):\n",
    "    if val >= city_mpg.mean():\n",
    "        return 'high'\n",
    "    else:\n",
    "        return 'low'\n",
    "city_mpg.apply(mayor_media)\n",
    "fin = time.time()\n",
    "\n",
    "print(fin - inicio)"
   ]
  },
  {
   "cell_type": "code",
   "execution_count": 60,
   "id": "06fa7816",
   "metadata": {},
   "outputs": [
    {
     "name": "stdout",
     "output_type": "stream",
     "text": [
      "0.0037741661071777344\n"
     ]
    }
   ],
   "source": [
    "# EJERCICIO 2 PAGINA 80\n",
    "\"\"\"\n",
    "Create a series from a numeric column that has the value of 'high' if it is equal to or above the mean and 'low' \n",
    "if it is below the mean using np.select\"\"\"\n",
    "import time\n",
    "inicio = time.time()\n",
    "#serie = pd.Series([10, 20, 30, 40, 50, 60, 70, 80, 90, 100])\n",
    "\n",
    "pd.Series(np.select([city_mpg >= city_mpg.mean(), city_mpg < city_mpg.mean()],['high','low']))\n",
    "\n",
    "fin = time.time()\n",
    "print(fin - inicio)"
   ]
  },
  {
   "cell_type": "code",
   "execution_count": null,
   "id": "b7690dae",
   "metadata": {},
   "outputs": [],
   "source": [
    "# EJERCICIO 3 PAGINA 80\n",
    "\"\"\"\n",
    "Time the differences between the previous two solucions to see which is faster\"\"\"\n",
    "\n",
    "# como se puede ver, el ejercicio 1 tarda 2.5 segundos y el ejercicio 2 tarda 0.0037 segundos. 675 veces mas rapido."
   ]
  }
 ],
 "metadata": {
  "kernelspec": {
   "display_name": "Python 3 (ipykernel)",
   "language": "python",
   "name": "python3"
  },
  "language_info": {
   "codemirror_mode": {
    "name": "ipython",
    "version": 3
   },
   "file_extension": ".py",
   "mimetype": "text/x-python",
   "name": "python",
   "nbconvert_exporter": "python",
   "pygments_lexer": "ipython3",
   "version": "3.9.15"
  },
  "vscode": {
   "interpreter": {
    "hash": "718638bc7924c91af1e8dedd5af4cdb99ef04f53cc9a34322590a5dca613ec88"
   }
  }
 },
 "nbformat": 4,
 "nbformat_minor": 5
}
