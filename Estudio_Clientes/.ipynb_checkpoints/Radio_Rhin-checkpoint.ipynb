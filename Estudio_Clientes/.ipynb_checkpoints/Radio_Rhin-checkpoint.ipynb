{
 "cells": [
  {
   "cell_type": "code",
   "execution_count": 19,
   "id": "2f477d94-624c-423c-ba11-92d96ea57af2",
   "metadata": {},
   "outputs": [],
   "source": [
    "import pandas as pd\n",
    "import numpy as np\n",
    "import datetime"
   ]
  },
  {
   "cell_type": "code",
   "execution_count": 5,
   "id": "7cae8f1a-8264-43ec-99f9-8e8cd0c6f654",
   "metadata": {},
   "outputs": [],
   "source": [
    "!ls"
   ]
  },
  {
   "cell_type": "code",
   "execution_count": 13,
   "id": "52bde7cf-a3c1-4b5b-afd4-73536dd71cd4",
   "metadata": {
    "tags": []
   },
   "outputs": [],
   "source": [
    "df = pd.read_csv('radio_rhin.csv', sep=';', encoding='latin', parse_dates=['Fecha'])"
   ]
  },
  {
   "cell_type": "code",
   "execution_count": 14,
   "id": "c76ea8b4-faac-4f26-82c7-f6426cbcc204",
   "metadata": {},
   "outputs": [
    {
     "data": {
      "text/html": [
       "<div><div id=6e770c9e-89b7-42e3-bb76-c9f7d6322ef2 style=\"display:none; background-color:#9D6CFF; color:white; width:200px; height:30px; padding-left:5px; border-radius:4px; flex-direction:row; justify-content:space-around; align-items:center;\" onmouseover=\"this.style.backgroundColor='#BA9BF8'\" onmouseout=\"this.style.backgroundColor='#9D6CFF'\" onclick=\"window.commands?.execute('create-mitosheet-from-dataframe-output');\">See Full Dataframe in Mito</div> <script> if (window.commands?.hasCommand('create-mitosheet-from-dataframe-output')) document.getElementById('6e770c9e-89b7-42e3-bb76-c9f7d6322ef2').style.display = 'flex' </script> <table border=\"1\" class=\"dataframe\">\n",
       "  <thead>\n",
       "    <tr style=\"text-align: right;\">\n",
       "      <th></th>\n",
       "      <th>Serie, ejercicio y nº factura</th>\n",
       "      <th>Fecha</th>\n",
       "      <th>Base general</th>\n",
       "      <th>Beneficio</th>\n",
       "      <th>Total factura</th>\n",
       "    </tr>\n",
       "  </thead>\n",
       "  <tbody>\n",
       "    <tr>\n",
       "      <th>0</th>\n",
       "      <td>08-AB/23-00004</td>\n",
       "      <td>2023-01-12</td>\n",
       "      <td>-52.50</td>\n",
       "      <td>-52.50</td>\n",
       "      <td>-63.53</td>\n",
       "    </tr>\n",
       "    <tr>\n",
       "      <th>1</th>\n",
       "      <td>08-N/23-00018</td>\n",
       "      <td>2023-01-04</td>\n",
       "      <td>246.76</td>\n",
       "      <td>60.48</td>\n",
       "      <td>298.58</td>\n",
       "    </tr>\n",
       "    <tr>\n",
       "      <th>2</th>\n",
       "      <td>08-N/23-00008</td>\n",
       "      <td>2023-01-03</td>\n",
       "      <td>58.10</td>\n",
       "      <td>26.01</td>\n",
       "      <td>70.30</td>\n",
       "    </tr>\n",
       "    <tr>\n",
       "      <th>3</th>\n",
       "      <td>08-N/22-03517</td>\n",
       "      <td>2022-12-22</td>\n",
       "      <td>20.94</td>\n",
       "      <td>9.97</td>\n",
       "      <td>25.34</td>\n",
       "    </tr>\n",
       "    <tr>\n",
       "      <th>4</th>\n",
       "      <td>08-N/22-03478</td>\n",
       "      <td>2022-12-19</td>\n",
       "      <td>251.85</td>\n",
       "      <td>72.00</td>\n",
       "      <td>304.74</td>\n",
       "    </tr>\n",
       "  </tbody>\n",
       "</table></div>"
      ],
      "text/plain": [
       "  Serie, ejercicio y nº factura      Fecha  Base general  Beneficio  \\\n",
       "0                08-AB/23-00004 2023-01-12        -52.50     -52.50   \n",
       "1                 08-N/23-00018 2023-01-04        246.76      60.48   \n",
       "2                 08-N/23-00008 2023-01-03         58.10      26.01   \n",
       "3                 08-N/22-03517 2022-12-22         20.94       9.97   \n",
       "4                 08-N/22-03478 2022-12-19        251.85      72.00   \n",
       "\n",
       "   Total factura  \n",
       "0         -63.53  \n",
       "1         298.58  \n",
       "2          70.30  \n",
       "3          25.34  \n",
       "4         304.74  "
      ]
     },
     "execution_count": 14,
     "metadata": {},
     "output_type": "execute_result"
    }
   ],
   "source": [
    "df.head()"
   ]
  },
  {
   "cell_type": "code",
   "execution_count": 15,
   "id": "51192f48-ce4b-4f4c-b85a-c21fe486c381",
   "metadata": {},
   "outputs": [
    {
     "name": "stdout",
     "output_type": "stream",
     "text": [
      "<class 'pandas.core.frame.DataFrame'>\n",
      "RangeIndex: 1213 entries, 0 to 1212\n",
      "Data columns (total 5 columns):\n",
      " #   Column                         Non-Null Count  Dtype         \n",
      "---  ------                         --------------  -----         \n",
      " 0   Serie, ejercicio y nº factura  1213 non-null   object        \n",
      " 1   Fecha                          1213 non-null   datetime64[ns]\n",
      " 2   Base general                   1213 non-null   float64       \n",
      " 3   Beneficio                      1213 non-null   float64       \n",
      " 4   Total factura                  1213 non-null   float64       \n",
      "dtypes: datetime64[ns](1), float64(3), object(1)\n",
      "memory usage: 47.5+ KB\n"
     ]
    }
   ],
   "source": [
    "df.info()"
   ]
  },
  {
   "cell_type": "code",
   "execution_count": 11,
   "id": "80c7dc09-0337-431c-8de8-32e797fa986c",
   "metadata": {},
   "outputs": [
    {
     "data": {
      "text/plain": [
       "Serie, ejercicio y nº factura    0\n",
       "Fecha                            0\n",
       "Base general                     0\n",
       "Beneficio                        0\n",
       "Total factura                    0\n",
       "dtype: int64"
      ]
     },
     "execution_count": 11,
     "metadata": {},
     "output_type": "execute_result"
    }
   ],
   "source": [
    "df.isnull().sum()"
   ]
  },
  {
   "cell_type": "code",
   "execution_count": 22,
   "id": "d7703885-a2a2-4157-9524-460cb578399a",
   "metadata": {
    "tags": []
   },
   "outputs": [],
   "source": [
    "df['year'] = df['Fecha'].dt.year"
   ]
  },
  {
   "cell_type": "code",
   "execution_count": 24,
   "id": "9461c1d2-23f0-4b7f-8d7c-59715322e08a",
   "metadata": {},
   "outputs": [],
   "source": [
    "df['month'] = df['Fecha'].dt.month"
   ]
  },
  {
   "cell_type": "code",
   "execution_count": 25,
   "id": "b5bc8224-7633-4d17-86f9-e74685fae4a5",
   "metadata": {},
   "outputs": [
    {
     "data": {
      "text/html": [
       "<div><div id=61ced8c9-6362-437b-9a72-615a84da19f6 style=\"display:none; background-color:#9D6CFF; color:white; width:200px; height:30px; padding-left:5px; border-radius:4px; flex-direction:row; justify-content:space-around; align-items:center;\" onmouseover=\"this.style.backgroundColor='#BA9BF8'\" onmouseout=\"this.style.backgroundColor='#9D6CFF'\" onclick=\"window.commands?.execute('create-mitosheet-from-dataframe-output');\">See Full Dataframe in Mito</div> <script> if (window.commands?.hasCommand('create-mitosheet-from-dataframe-output')) document.getElementById('61ced8c9-6362-437b-9a72-615a84da19f6').style.display = 'flex' </script> <table border=\"1\" class=\"dataframe\">\n",
       "  <thead>\n",
       "    <tr style=\"text-align: right;\">\n",
       "      <th></th>\n",
       "      <th>Serie, ejercicio y nº factura</th>\n",
       "      <th>Fecha</th>\n",
       "      <th>Base general</th>\n",
       "      <th>Beneficio</th>\n",
       "      <th>Total factura</th>\n",
       "      <th>year</th>\n",
       "      <th>month</th>\n",
       "    </tr>\n",
       "  </thead>\n",
       "  <tbody>\n",
       "    <tr>\n",
       "      <th>0</th>\n",
       "      <td>08-AB/23-00004</td>\n",
       "      <td>2023-01-12</td>\n",
       "      <td>-52.50</td>\n",
       "      <td>-52.50</td>\n",
       "      <td>-63.53</td>\n",
       "      <td>2023</td>\n",
       "      <td>1</td>\n",
       "    </tr>\n",
       "    <tr>\n",
       "      <th>1</th>\n",
       "      <td>08-N/23-00018</td>\n",
       "      <td>2023-01-04</td>\n",
       "      <td>246.76</td>\n",
       "      <td>60.48</td>\n",
       "      <td>298.58</td>\n",
       "      <td>2023</td>\n",
       "      <td>1</td>\n",
       "    </tr>\n",
       "    <tr>\n",
       "      <th>2</th>\n",
       "      <td>08-N/23-00008</td>\n",
       "      <td>2023-01-03</td>\n",
       "      <td>58.10</td>\n",
       "      <td>26.01</td>\n",
       "      <td>70.30</td>\n",
       "      <td>2023</td>\n",
       "      <td>1</td>\n",
       "    </tr>\n",
       "    <tr>\n",
       "      <th>3</th>\n",
       "      <td>08-N/22-03517</td>\n",
       "      <td>2022-12-22</td>\n",
       "      <td>20.94</td>\n",
       "      <td>9.97</td>\n",
       "      <td>25.34</td>\n",
       "      <td>2022</td>\n",
       "      <td>12</td>\n",
       "    </tr>\n",
       "    <tr>\n",
       "      <th>4</th>\n",
       "      <td>08-N/22-03478</td>\n",
       "      <td>2022-12-19</td>\n",
       "      <td>251.85</td>\n",
       "      <td>72.00</td>\n",
       "      <td>304.74</td>\n",
       "      <td>2022</td>\n",
       "      <td>12</td>\n",
       "    </tr>\n",
       "  </tbody>\n",
       "</table></div>"
      ],
      "text/plain": [
       "  Serie, ejercicio y nº factura      Fecha  Base general  Beneficio  \\\n",
       "0                08-AB/23-00004 2023-01-12        -52.50     -52.50   \n",
       "1                 08-N/23-00018 2023-01-04        246.76      60.48   \n",
       "2                 08-N/23-00008 2023-01-03         58.10      26.01   \n",
       "3                 08-N/22-03517 2022-12-22         20.94       9.97   \n",
       "4                 08-N/22-03478 2022-12-19        251.85      72.00   \n",
       "\n",
       "   Total factura  year  month  \n",
       "0         -63.53  2023      1  \n",
       "1         298.58  2023      1  \n",
       "2          70.30  2023      1  \n",
       "3          25.34  2022     12  \n",
       "4         304.74  2022     12  "
      ]
     },
     "execution_count": 25,
     "metadata": {},
     "output_type": "execute_result"
    }
   ],
   "source": [
    "df.head()"
   ]
  },
  {
   "cell_type": "code",
   "execution_count": 38,
   "id": "67313ff6-a3a6-4c76-a742-f80f552b77fc",
   "metadata": {},
   "outputs": [
    {
     "data": {
      "text/plain": [
       "Serie, ejercicio y nº factura            object\n",
       "Fecha                            datetime64[ns]\n",
       "Base general                            float64\n",
       "Beneficio                               float64\n",
       "Total factura                           float64\n",
       "year                                      int64\n",
       "month                                     int64\n",
       "dtype: object"
      ]
     },
     "execution_count": 38,
     "metadata": {},
     "output_type": "execute_result"
    }
   ],
   "source": [
    "df.dtypes"
   ]
  },
  {
   "cell_type": "code",
   "execution_count": 26,
   "id": "296705a3-b585-4c38-bca0-a71e78d4d4be",
   "metadata": {},
   "outputs": [],
   "source": [
    "f_fecha = df.groupby(['year','month'])`"
   ]
  },
  {
   "cell_type": "code",
   "execution_count": 32,
   "id": "8e6b60ff-21e7-4c91-bff6-ee3ef4e1bc01",
   "metadata": {},
   "outputs": [],
   "source": [
    "f_ano = df.groupby('year')"
   ]
  },
  {
   "cell_type": "code",
   "execution_count": 31,
   "id": "241bbf60-c063-4f90-bb18-6fdf4ca0cb93",
   "metadata": {},
   "outputs": [
    {
     "data": {
      "text/plain": [
       "year  month\n",
       "2006  4        2697.90\n",
       "      5        3666.38\n",
       "      6        2268.70\n",
       "      7        2824.47\n",
       "      8        2087.93\n",
       "                ...   \n",
       "2014  3        1686.57\n",
       "      4        1521.74\n",
       "      5        1339.09\n",
       "      6        1151.00\n",
       "      7        1484.87\n",
       "Name: Base general, Length: 100, dtype: float64"
      ]
     },
     "execution_count": 31,
     "metadata": {},
     "output_type": "execute_result"
    }
   ],
   "source": [
    "f_fecha['Base general'].sum().head(100)"
   ]
  },
  {
   "cell_type": "code",
   "execution_count": 40,
   "id": "8782d330-cc50-476b-9a71-fafc40a99d40",
   "metadata": {},
   "outputs": [
    {
     "data": {
      "text/plain": [
       "year\n",
       "2006    25029.20\n",
       "2007    28105.09\n",
       "2008    32614.32\n",
       "2009    23239.99\n",
       "2010    24274.52\n",
       "2011    21917.53\n",
       "2012    18479.07\n",
       "2013    16999.30\n",
       "2014    19202.46\n",
       "2015     6073.35\n",
       "2016     3059.92\n",
       "2017     2651.41\n",
       "2018     1817.94\n",
       "2019     1825.68\n",
       "2020     2470.95\n",
       "2021     2820.18\n",
       "2022     4526.72\n",
       "2023      252.36\n",
       "Name: Base general, dtype: float64"
      ]
     },
     "execution_count": 40,
     "metadata": {},
     "output_type": "execute_result"
    }
   ],
   "source": [
    "f_ano['Base general'].sum()"
   ]
  },
  {
   "cell_type": "code",
   "execution_count": 41,
   "id": "ff9a43ec-0941-46bb-96a8-ae68b3ad4136",
   "metadata": {},
   "outputs": [
    {
     "data": {
      "text/plain": [
       "<AxesSubplot: xlabel='year'>"
      ]
     },
     "execution_count": 41,
     "metadata": {},
     "output_type": "execute_result"
    },
    {
     "data": {
      "image/png": "[encoded data removed]",
      "text/plain": [
       "<Figure size 640x480 with 1 Axes>"
      ]
     },
     "metadata": {},
     "output_type": "display_data"
    }
   ],
   "source": [
    "f_ano['Base general'].sum().plot.bar()"
   ]
  },
  {
   "cell_type": "code",
   "execution_count": null,
   "id": "a7a258c2-6720-4941-9bd1-e31a32dc4cd8",
   "metadata": {},
   "outputs": [],
   "source": []
  }
 ],
 "metadata": {
  "kernelspec": {
   "display_name": "Python 3 (ipykernel)",
   "language": "python",
   "name": "python3"
  },
  "language_info": {
   "codemirror_mode": {
    "name": "ipython",
    "version": 3
   },
   "file_extension": ".py",
   "mimetype": "text/x-python",
   "name": "python",
   "nbconvert_exporter": "python",
   "pygments_lexer": "ipython3",
   "version": "3.8.15"
  }
 },
 "nbformat": 4,
 "nbformat_minor": 5
}
