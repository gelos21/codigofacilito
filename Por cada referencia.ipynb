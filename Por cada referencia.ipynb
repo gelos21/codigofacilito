{
 "cells": [
  {
   "cell_type": "code",
   "execution_count": 17,
   "id": "ae8a8ee9",
   "metadata": {
    "scrolled": false
   },
   "outputs": [
    {
     "data": {
      "text/plain": [
       "mes\n",
       "1            NaN\n",
       "2            NaN\n",
       "3            NaN\n",
       "4            NaN\n",
       "5            NaN\n",
       "6     290.666667\n",
       "7     285.833333\n",
       "8     262.833333\n",
       "9     250.666667\n",
       "10    253.000000\n",
       "11    285.166667\n",
       "12    291.666667\n",
       "Name: salidas, dtype: float64"
      ]
     },
     "execution_count": 17,
     "metadata": {},
     "output_type": "execute_result"
    }
   ],
   "source": [
    "# Importar la librería Pandas\n",
    "import pandas as pd\n",
    "\n",
    "# Leer el archivo CSV y cargar los datos en un dataframe\n",
    "df = pd.read_csv(\"/home/ubuntu/projects/codigofacilito/sais_definitivo.csv\", sep=\";\")\n",
    "\n",
    "\n",
    "# Ahora, filtramos el DataFrame para obtener solo las filas que corresponden a una referencia específica\n",
    "df = df[df[\"referencia\"] == \"PH 7288\"]\n",
    "\n",
    "# Luego, agrupamos las filas por mes y calculamos la suma de las unidades vendidas para cada mes\n",
    "df = df.groupby(\"mes\")[\"salidas\"].sum()\n",
    "\n",
    "# Finalmente, calculamos el promedio móvil de las ventas para la referencia seleccionada\n",
    "df.rolling(window=6).mean()\n"
   ]
  },
  {
   "cell_type": "code",
   "execution_count": null,
   "id": "62d8c0e2",
   "metadata": {},
   "outputs": [],
   "source": []
  }
 ],
 "metadata": {
  "kernelspec": {
   "display_name": "Python 3 (ipykernel)",
   "language": "python",
   "name": "python3"
  },
  "language_info": {
   "codemirror_mode": {
    "name": "ipython",
    "version": 3
   },
   "file_extension": ".py",
   "mimetype": "text/x-python",
   "name": "python",
   "nbconvert_exporter": "python",
   "pygments_lexer": "ipython3",
   "version": "3.9.15"
  }
 },
 "nbformat": 4,
 "nbformat_minor": 5
}
