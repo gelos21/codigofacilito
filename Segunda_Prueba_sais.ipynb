{
 "cells": [
  {
   "cell_type": "code",
   "execution_count": 10,
   "id": "a4677b5e",
   "metadata": {},
   "outputs": [
    {
     "name": "stdout",
     "output_type": "stream",
     "text": [
      "Requirement already satisfied: numpy in d:\\repositorios_github\\env\\lib\\site-packages (1.24.1)\n"
     ]
    }
   ],
   "source": [
    "#!pip install numpy\n",
    "#!pip intall pandas"
   ]
  },
  {
   "cell_type": "code",
   "execution_count": 12,
   "id": "93a0e06e",
   "metadata": {},
   "outputs": [],
   "source": [
    "#importamos las librerías necesarias\n",
    "import pandas as pd\n",
    "import numpy as np"
   ]
  },
  {
   "cell_type": "code",
   "execution_count": null,
   "id": "85bf6508",
   "metadata": {},
   "outputs": [],
   "source": [
    "#importamos el fichero csv\n",
    "df = "
   ]
  }
 ],
 "metadata": {
  "kernelspec": {
   "display_name": "Python 3 (ipykernel)",
   "language": "python",
   "name": "python3"
  },
  "language_info": {
   "codemirror_mode": {
    "name": "ipython",
    "version": 3
   },
   "file_extension": ".py",
   "mimetype": "text/x-python",
   "name": "python",
   "nbconvert_exporter": "python",
   "pygments_lexer": "ipython3",
   "version": "3.10.7"
  }
 },
 "nbformat": 4,
 "nbformat_minor": 5
}
